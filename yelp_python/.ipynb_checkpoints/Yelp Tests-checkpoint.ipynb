{
 "metadata": {
  "name": ""
 },
 "nbformat": 3,
 "nbformat_minor": 0,
 "worksheets": [
  {
   "cells": [
    {
     "cell_type": "heading",
     "level": 1,
     "metadata": {},
     "source": [
      "Yelp Tests"
     ]
    },
    {
     "cell_type": "code",
     "collapsed": false,
     "input": [
      "def yelp_search(search_term):   \n",
      "    \"\"\"\n",
      "    signs a yelp search request using the oauth2 library.\n",
      "    \"\"\"\n",
      "    \n",
      "    import oauth2\n",
      "    import base64\n",
      "    import passwords\n",
      "    \n",
      "    #get passwords\n",
      "    my_info = passwords.get_secure_info()\n",
      "    #'decrypt passwords'\n",
      "    consumer_key = base64.b64decode(my_info['Consumer_Key'])\n",
      "    consumer_secret = base64.b64decode(my_info['Consumer_Secret'])\n",
      "    token = base64.b64decode(my_info['Token'])\n",
      "    token_secret = base64.b64decode(my_info['Token_Secret'])\n",
      "    \n",
      "    \n",
      "    #set querry vars\n",
      "    reonomy_loc = '40.749281,-73.994369' # lat long coordinates\n",
      "    distance = '400'                     # 5 blocks in meters\n",
      "    \n",
      "    #set querry\n",
      "    url = ('http://api.yelp.com/v2/search?' \\\n",
      "            'sort=2&' \\\n",
      "            'term=%s&' \\\n",
      "            'll=%s&' \\\n",
      "            'radius_filter=%s'\\\n",
      "             %\n",
      "            (search_term, reonomy_loc, distance))\n",
      "    \n",
      "    # use oauth2 to sign request and make querry\n",
      "    consumer = oauth2.Consumer(consumer_key, consumer_secret)\n",
      "    oauth_request = oauth2.Request('GET', url, {})\n",
      "    oauth_request.update({'oauth_nonce': oauth2.generate_nonce(),\n",
      "                          'oauth_timestamp': oauth2.generate_timestamp(),\n",
      "                          'oauth_token': token,\n",
      "                          'oauth_consumer_key': consumer_key})\n",
      "    \n",
      "    token = oauth2.Token(token, token_secret)\n",
      "    \n",
      "    oauth_request.sign_request(oauth2.SignatureMethod_HMAC_SHA1(), consumer, token)\n",
      "    \n",
      "    signed_url = oauth_request.to_url()\n",
      "    \n",
      "    return signed_url"
     ],
     "language": "python",
     "metadata": {},
     "outputs": [],
     "prompt_number": 185
    },
    {
     "cell_type": "code",
     "collapsed": false,
     "input": [
      "def yelp_business(bid):   \n",
      "    \"\"\"\n",
      "    signs a yelp search request using the oauth2 library.\n",
      "    \"\"\"\n",
      "    \n",
      "    import oauth2\n",
      "    import base64\n",
      "    import passwords\n",
      "    \n",
      "    #get passwords\n",
      "    my_info = passwords.get_secure_info()\n",
      "    #'decrypt passwords'\n",
      "    consumer_key = base64.b64decode(my_info['Consumer_Key'])\n",
      "    consumer_secret = base64.b64decode(my_info['Consumer_Secret'])\n",
      "    token = base64.b64decode(my_info['Token'])\n",
      "    token_secret = base64.b64decode(my_info['Token_Secret'])\n",
      "    \n",
      "    #set querry\n",
      "    url = ('http://api.yelp.com/v2/business/%s' % bid)\n",
      "    \n",
      "    # use oauth2 to sign request and make querry\n",
      "    consumer = oauth2.Consumer(consumer_key, consumer_secret)\n",
      "    oauth_request = oauth2.Request('GET', url, {})\n",
      "    oauth_request.update({'oauth_nonce': oauth2.generate_nonce(),\n",
      "                          'oauth_timestamp': oauth2.generate_timestamp(),\n",
      "                          'oauth_token': token,\n",
      "                          'oauth_consumer_key': consumer_key})\n",
      "    \n",
      "    token = oauth2.Token(token, token_secret)\n",
      "    \n",
      "    oauth_request.sign_request(oauth2.SignatureMethod_HMAC_SHA1(), consumer, token)\n",
      "    \n",
      "    signed_url = oauth_request.to_url()\n",
      "    \n",
      "    return signed_url"
     ],
     "language": "python",
     "metadata": {},
     "outputs": [],
     "prompt_number": 186
    },
    {
     "cell_type": "code",
     "collapsed": false,
     "input": [
      "def dist_convert(dist_meters):\n",
      "    '''\n",
      "    takes a distance in meteres and returns a distance in NYC Blocks\n",
      "    '''\n",
      "    feet_conversion = 3.28\n",
      "    block_conversion = 264\n",
      "    return ((dist_meters * feet_conversion) / block_conversion)"
     ],
     "language": "python",
     "metadata": {},
     "outputs": [],
     "prompt_number": 187
    },
    {
     "cell_type": "code",
     "collapsed": false,
     "input": [
      "def connection(url):\n",
      "    '''\n",
      "    connects to yelp to extract data\n",
      "    '''\n",
      "    import urllib\n",
      "    import urllib2\n",
      "    import json\n",
      "    \n",
      "    try:\n",
      "        conn = urllib2.urlopen(url, None)\n",
      "        try:\n",
      "            data = json.loads(conn.read())\n",
      "        finally:\n",
      "            conn.close()\n",
      "    except urllib2.HTTPError, error:\n",
      "        data = json.loads(error.read())\n",
      "    \n",
      "    return data"
     ],
     "language": "python",
     "metadata": {},
     "outputs": [],
     "prompt_number": 188
    },
    {
     "cell_type": "code",
     "collapsed": false,
     "input": [
      "def find_lunch(search_term):\n",
      "    '''\n",
      "    querries yelp to get a list of delicous resturants\n",
      "    '''\n",
      "    \n",
      "    #get search data from data from yelp\n",
      "    data = connection(yelp_search(search_term))\n",
      "    \n",
      "    #explore data\n",
      "    for b in data['businesses']:\n",
      "        print ('Name=[%s], Phone # [%s], dist=[%2f], Rating [%s] stars from %s reviews' \\\n",
      "               %(b['name'], b['display_phone'], dist_convert(b['distance']), b['rating'], b['review_count']))\n",
      "        print b['snippet_text'],  b['snippet_image_url']\n",
      "        return b\n",
      "        break"
     ],
     "language": "python",
     "metadata": {},
     "outputs": [],
     "prompt_number": 189
    },
    {
     "cell_type": "code",
     "collapsed": false,
     "input": [
      "soup = find_lunch('soup')"
     ],
     "language": "python",
     "metadata": {},
     "outputs": [
      {
       "output_type": "stream",
       "stream": "stdout",
       "text": [
        "Name=[HIT Korean Food & Deli], Phone # [+1-212-633-1530], dist=[3.844512], Rating [4.0] stars from 90 reviews\n",
        "YES. WHAT. YES.\n",
        "\n",
        "This is an actual hole in the wall in the deep pits of some building where one man surrounded by TVs, truck stop coffee machines and a... http://s3-media3.ak.yelpcdn.com/photo/VRyW83zLbo54rgC5A7oRRw/ms.jpg\n"
       ]
      }
     ],
     "prompt_number": 190
    },
    {
     "cell_type": "code",
     "collapsed": false,
     "input": [
      "import IPython.display as dsp"
     ],
     "language": "python",
     "metadata": {},
     "outputs": [],
     "prompt_number": 191
    },
    {
     "cell_type": "code",
     "collapsed": false,
     "input": [
      "dsp.Image(url=soup['rating_img_url_large'])"
     ],
     "language": "python",
     "metadata": {},
     "outputs": [
      {
       "html": [
        "<img src=\"http://s3-media2.ak.yelpcdn.com/assets/2/www/img/ccf2b76faa2c/ico/stars/v1/stars_large_4.png\"/>"
       ],
       "metadata": {},
       "output_type": "pyout",
       "prompt_number": 192,
       "text": [
        "<IPython.core.display.Image at 0x3973290>"
       ]
      }
     ],
     "prompt_number": 192
    },
    {
     "cell_type": "code",
     "collapsed": false,
     "input": [
      "dsp.Image(url=soup['image_url'])"
     ],
     "language": "python",
     "metadata": {},
     "outputs": [
      {
       "html": [
        "<img src=\"http://s3-media4.ak.yelpcdn.com/bphoto/3jCAMsmVsnHkT601v_xmmA/ms.jpg\"/>"
       ],
       "metadata": {},
       "output_type": "pyout",
       "prompt_number": 193,
       "text": [
        "<IPython.core.display.Image at 0x3973890>"
       ]
      }
     ],
     "prompt_number": 193
    },
    {
     "cell_type": "code",
     "collapsed": false,
     "input": [
      "soup['id']"
     ],
     "language": "python",
     "metadata": {},
     "outputs": [
      {
       "metadata": {},
       "output_type": "pyout",
       "prompt_number": 194,
       "text": [
        "u'hit-korean-food-and-deli-new-york'"
       ]
      }
     ],
     "prompt_number": 194
    },
    {
     "cell_type": "code",
     "collapsed": false,
     "input": [
      "def business_profile(bid):\n",
      "    profile = connection(yelp_business(bid))\n",
      "    for r in profile['reviews']:\n",
      "        print \"Rating=[%s] Review: %s\" % (r['rating'], r['excerpt'])"
     ],
     "language": "python",
     "metadata": {},
     "outputs": [],
     "prompt_number": 212
    },
    {
     "cell_type": "code",
     "collapsed": false,
     "input": [
      "business_profile(soup['id'])\n",
      " "
     ],
     "language": "python",
     "metadata": {},
     "outputs": [
      {
       "output_type": "stream",
       "stream": "stdout",
       "text": [
        "Rating=[4] Review: There's not much I can say about this place that hasn't already been said - it's cheap, delicious, no-frills Korean food.  It's definitely a hole in the...\n",
        "Rating=[5] Review: YES. WHAT. YES.\n",
        "\n",
        "This is an actual hole in the wall in the deep pits of some building where one man surrounded by TVs, truck stop coffee machines and a...\n",
        "Rating=[3] Review: Jeyuk Bokkeum ($8.95) - fresly made stir-fried pork didn't excite me but acceptable. The cabbage salad with mayo refreshed the spicy and heavy taste of...\n"
       ]
      }
     ],
     "prompt_number": 213
    },
    {
     "cell_type": "code",
     "collapsed": false,
     "input": [
      "def find_lunch(search_term):\n",
      "    '''\n",
      "    querries yelp to get a list of delicous resturants\n",
      "    '''\n",
      "    \n",
      "    #get search data from data from yelp\n",
      "    data = connection(yelp_search(search_term))\n",
      "    \n",
      "    #explore data\n",
      "    for b in data['businesses']:\n",
      "        print ('Name=[%s], Phone # [%s], dist=[%.2f blocks], Rating [%s] stars from %s reviews' \\\n",
      "               %(b['name'], b['display_phone'], dist_convert(b['distance']), b['rating'], b['review_count']))\n",
      "        #get business ratings\n",
      "        business_profile(b['id'])\n",
      "        print '\\n[----Next Business-----------------] \\n'\n",
      "        "
     ],
     "language": "python",
     "metadata": {},
     "outputs": [],
     "prompt_number": 208
    },
    {
     "cell_type": "code",
     "collapsed": false,
     "input": [
      "find_lunch('soup')"
     ],
     "language": "python",
     "metadata": {},
     "outputs": [
      {
       "output_type": "stream",
       "stream": "stdout",
       "text": [
        "Name=[HIT Korean Food & Deli], Phone # [+1-212-633-1530], dist=[3.84 blocks], Rating [4.0] stars from 90 reviews\n",
        "Rating=[4] Review: There's not much I can say about this place that hasn't already been said - it's cheap, delicious, no-frills Korean food.  It's definitely a hole in the..."
       ]
      },
      {
       "output_type": "stream",
       "stream": "stdout",
       "text": [
        "\n",
        "Rating=[5] Review: YES. WHAT. YES.\n",
        "\n",
        "This is an actual hole in the wall in the deep pits of some building where one man surrounded by TVs, truck stop coffee machines and a...\n",
        "Rating=[3] Review: Jeyuk Bokkeum ($8.95) - fresly made stir-fried pork didn't excite me but acceptable. The cabbage salad with mayo refreshed the spicy and heavy taste of...\n",
        "\n",
        "[----Next Business-----------------] \n",
        "\n",
        "Name=[Soup Spot], Phone # [+1-212-643-8623], dist=[1.77 blocks], Rating [4.5] stars from 120 reviews\n",
        "Rating=[4] Review: This is my new favorite place to go during lunchtime! It's a perfect spot to grab a delicious lunch and take it back to the office or find a place outside..."
       ]
      },
      {
       "output_type": "stream",
       "stream": "stdout",
       "text": [
        "\n",
        "Rating=[5] Review: My new favorite place to have lunch! It's a super tiny hole in the wall joint that has rotating soup options. With each soup (even the small ones), you get...\n",
        "Rating=[3] Review: Like Chipotle near 34th and 8th, this place always has a line during lunch but moves pretty quickly. \n",
        "\n",
        "Soup Spot has a vast array of soups but only 18...\n",
        "\n",
        "[----Next Business-----------------] \n",
        "\n",
        "Name=[Pio Pio Riko], Phone # [+1-212-643-7555], dist=[1.38 blocks], Rating [4.0] stars from 38 reviews\n",
        "Rating=[4] Review: My friend and I had lunch here before catching a movie. I found this place on yelp and was so happy that I did! Honestly, I think I may have had Peruvian..."
       ]
      },
      {
       "output_type": "stream",
       "stream": "stdout",
       "text": [
        "\n",
        "Rating=[3] Review: Derricious! \n",
        "\n",
        "Restaurant is very clean and the waitstaff is extremely friendly.\n",
        "\n",
        "The half-chicken combo is such a steal! For $10, you get a LOT of food -...\n",
        "Rating=[5] Review: I have an obsession with Peruvian chicken and this fast food like joint delivers like no other... perfect for a quick, cheap and delicious lunch option in...\n",
        "\n",
        "[----Next Business-----------------] \n",
        "\n",
        "Name=[Brooklyn Bagel & Coffee Company], Phone # [+1-212-924-2824], dist=[5.45 blocks], Rating [4.0] stars from 309 reviews\n",
        "Rating=[5] Review: I love coming here. I live just across the street. \n",
        "\n",
        "Usually, they really love putting a lot of cream cheese on the bagels. But I always ask for them to not..."
       ]
      },
      {
       "output_type": "stream",
       "stream": "stdout",
       "text": [
        "\n",
        "Rating=[5] Review: MIND BLOWN. Renewed my faith in bagels.\n",
        "\n",
        "Tofu 'cream cheese' was phenomenal. I am still having dreams of this place....\n",
        "Rating=[3] Review: I really wanted to like this place. And in some ways, I did:\n",
        "\n",
        "Their food is great and their bagels are really big and tasty. Don't get fooled by the label...\n",
        "\n",
        "[----Next Business-----------------] \n",
        "\n",
        "Name=[Penn Sushi], Phone # [+1-212-564-5496], dist=[2.70 blocks], Rating [4.0] stars from 18 reviews\n",
        "Rating=[4] Review: Went to this place to get something before my train to DC.  Loved the food and selection of Japanese fast food.  Left very happy; but unfortunately, my soup..."
       ]
      },
      {
       "output_type": "stream",
       "stream": "stdout",
       "text": [
        "\n",
        "Rating=[4] Review: I usually end up getting to Penn Station early for an Amtrak, and have frequented Penn Sushi many times. Always fresh and it's a nice healthy alternative to...\n",
        "Rating=[4] Review: This place is a little gem. It is a very small stand but they have amazing products and even better service. \n",
        "\n",
        "There sushi is the best in midtown with...\n",
        "\n",
        "[----Next Business-----------------] \n",
        "\n",
        "Name=[Mooncake Foods], Phone # [+1-212-268-2888], dist=[0.55 blocks], Rating [3.5] stars from 243 reviews\n",
        "Rating=[4] Review: I love coming to mooncake foods for lunch. I've brought different co-workers on different occasions and they enjoyed it as well. \n",
        "\n",
        "I like:\n",
        "-Grilled Squid w/..."
       ]
      },
      {
       "output_type": "stream",
       "stream": "stdout",
       "text": [
        "\n",
        "Rating=[4] Review: I actually enjoyed the food and the loudness that comes with! I've only been at this establishment once and I'm hooked!  Look, I'm not saying this is...\n",
        "Rating=[4] Review: Conveniently close to both Madison Square Garden and New York Penn Station, Mooncakes is my go-to eats spot before a MSG event or when meeting up with...\n",
        "\n",
        "[----Next Business-----------------] \n",
        "\n",
        "Name=[Caribbean Kitchen], Phone # [+1-212-290-2864], dist=[3.07 blocks], Rating [3.5] stars from 31 reviews\n",
        "Rating=[5] Review: This place is great for lunch. I'm not Caribbean but this food is very delicious to me: Jerk Chicken, Caribbean Curry Chicken, Jerk Pork, Curry Goat,..."
       ]
      },
      {
       "output_type": "stream",
       "stream": "stdout",
       "text": [
        "\n",
        "Rating=[1] Review: My review is not fair because I didn't even eat there. By the time I walked down the sketchiest hidden block in midtown, I was first greeted by a urine and...\n",
        "Rating=[4] Review: Used to work nearby and this place was like having Brooklyn in the middle of midtown except they definitely don't have Brooklyn prices.  I'm a fan of the...\n",
        "\n",
        "[----Next Business-----------------] \n",
        "\n",
        "Name=[Loving Hut], Phone # [+1-212-760-1900], dist=[2.36 blocks], Rating [3.5] stars from 175 reviews\n",
        "Rating=[3] Review: It's consistently really good but not stellar. You probably won't feel the urge to lick your plate. If you're vegan you're in luck and know you'll be..."
       ]
      },
      {
       "output_type": "stream",
       "stream": "stdout",
       "text": [
        "\n",
        "Rating=[2] Review: Recently I've had to make some diet changes and was excited to find a vegan restaurant near to my job. Getting lunch at a vegan place makes it so much...\n",
        "Rating=[2] Review: I find that Loving Huts are a hit or miss experience, both in terms of the restaurant itself and in terms of what you end up choosing off the menu. \n",
        "\n",
        "I ran...\n",
        "\n",
        "[----Next Business-----------------] \n",
        "\n",
        "Name=[Kobeyaki], Phone # [+1-212-242-5500], dist=[4.01 blocks], Rating [3.5] stars from 123 reviews\n",
        "Rating=[4] Review: While waiting in line a couple in front of me said \"This place is weird lets leave.\"  This sealed the deal for me, I got a shorter line and I love weird.  I..."
       ]
      },
      {
       "output_type": "stream",
       "stream": "stdout",
       "text": [
        "\n",
        "Rating=[2] Review: Popped in here twice this week. Got the same thing- Grilled Vegetable roll without eel sauce. The roll itself is pretty delicious however the service is...\n",
        "Rating=[3] Review: Not a bad place for lunch. The burger and sweet potato fries are a good choice.\n",
        "\n",
        "I wouldn't recommend the ramen -- it's bland, lacks ingredients, too...\n",
        "\n",
        "[----Next Business-----------------] \n",
        "\n",
        "Name=[Lz Sushi], Phone # [+1-212-868-1388], dist=[2.71 blocks], Rating [4.0] stars from 25 reviews\n",
        "Rating=[4] Review: Lz Sushi is a tiny sushi place with great value. It is perfect to pick up for lunch or bring home for dinner. The sushi is inexpensive and tastes delicious...."
       ]
      },
      {
       "output_type": "stream",
       "stream": "stdout",
       "text": [
        "\n",
        "Rating=[4] Review: Lz Sushi is my go-to takeout sushi lunch place. Its pretty much a hole in the wall, but they have a nice selection of pre-packaged sushi waiting whenever...\n",
        "Rating=[3] Review: Again looking around NYC during my recent trip for a bite to eat, I consulted my Yelp phone app for some options. LZ Sushi came up and fairly near, so I...\n",
        "\n",
        "[----Next Business-----------------] \n",
        "\n",
        "Name=[Bistro Market Place], Phone # [+1-212-239-7050], dist=[4.46 blocks], Rating [3.5] stars from 53 reviews\n",
        "Rating=[2] Review: I was looking for a cafe for Sunday brunch near the Manhattan Center, and I found this bistro to be unimpressive. \n",
        "\n",
        "First of all, their coffee products were..."
       ]
      },
      {
       "output_type": "stream",
       "stream": "stdout",
       "text": [
        "\n",
        "Rating=[4] Review: Big selection of packaged foods, fresh fruits and salads, and cooked meals. \n",
        "\n",
        "Nice sitting area. \n",
        "\n",
        "They manage lines well. \n",
        "\n",
        "They should have more yogurts\n",
        "Rating=[3] Review: Dropped in here yesterday to pick up some snacks before boarding the Rocks Off Party bus to Iron Maiden concert at Jones Beach. Nice bistro deli with a ton...\n",
        "\n",
        "[----Next Business-----------------] \n",
        "\n",
        "Name=[Lily Farm Corp], Phone # [+1-212-243-4673], dist=[4.17 blocks], Rating [4.0] stars from 4 reviews\n",
        "Rating=[4] Review: My coworkers  swear by the sandwiches here, which I have never had but I did recently discover the Japanese food counter and have been on a yuzu udon noodle..."
       ]
      },
      {
       "output_type": "stream",
       "stream": "stdout",
       "text": [
        "\n",
        "Rating=[4] Review: My coworker introduced me to this place  and they make the best sandwiches.  The service is very good and they never mess up my order.  I ordered roast beef...\n",
        "Rating=[4] Review: They have got my attention with the large variety of lunch specials they offer & their super-low prices.  \n",
        "\n",
        "They have a hot & cold buffet featuring...\n",
        "\n",
        "[----Next Business-----------------] \n",
        "\n",
        "Name=[Express Chinese & Japanese], Phone # [+1-212-564-2079], dist=[1.80 blocks], Rating [3.5] stars from 5 reviews\n",
        "Rating=[5] Review: BEST DUMPLINGS I'VE EVER HAD!!!!  I'll never go anywhere else. \n",
        "\n",
        "I've eaten at many hundreds of Chinese restaurants in my life.\n",
        "The STEAMED VEGETABLE..."
       ]
      },
      {
       "ename": "UnicodeEncodeError",
       "evalue": "'ascii' codec can't encode character u'\\xf3' in position 25: ordinal not in range(128)",
       "output_type": "pyerr",
       "traceback": [
        "\u001b[1;31m---------------------------------------------------------------------------\u001b[0m\n\u001b[1;31mUnicodeEncodeError\u001b[0m                        Traceback (most recent call last)",
        "\u001b[1;32m<ipython-input-209-d50401e313b5>\u001b[0m in \u001b[0;36m<module>\u001b[1;34m()\u001b[0m\n\u001b[1;32m----> 1\u001b[1;33m \u001b[0mfind_lunch\u001b[0m\u001b[1;33m(\u001b[0m\u001b[1;34m'soup'\u001b[0m\u001b[1;33m)\u001b[0m\u001b[1;33m\u001b[0m\u001b[0m\n\u001b[0m",
        "\u001b[1;32m<ipython-input-208-664c2dd8d117>\u001b[0m in \u001b[0;36mfind_lunch\u001b[1;34m(search_term)\u001b[0m\n\u001b[0;32m     11\u001b[0m         \u001b[1;32mprint\u001b[0m \u001b[1;33m(\u001b[0m\u001b[1;34m'Name=[%s], Phone # [%s], dist=[%.2f blocks], Rating [%s] stars from %s reviews'\u001b[0m                \u001b[1;33m%\u001b[0m\u001b[1;33m(\u001b[0m\u001b[0mb\u001b[0m\u001b[1;33m[\u001b[0m\u001b[1;34m'name'\u001b[0m\u001b[1;33m]\u001b[0m\u001b[1;33m,\u001b[0m \u001b[0mb\u001b[0m\u001b[1;33m[\u001b[0m\u001b[1;34m'display_phone'\u001b[0m\u001b[1;33m]\u001b[0m\u001b[1;33m,\u001b[0m \u001b[0mdist_convert\u001b[0m\u001b[1;33m(\u001b[0m\u001b[0mb\u001b[0m\u001b[1;33m[\u001b[0m\u001b[1;34m'distance'\u001b[0m\u001b[1;33m]\u001b[0m\u001b[1;33m)\u001b[0m\u001b[1;33m,\u001b[0m \u001b[0mb\u001b[0m\u001b[1;33m[\u001b[0m\u001b[1;34m'rating'\u001b[0m\u001b[1;33m]\u001b[0m\u001b[1;33m,\u001b[0m \u001b[0mb\u001b[0m\u001b[1;33m[\u001b[0m\u001b[1;34m'review_count'\u001b[0m\u001b[1;33m]\u001b[0m\u001b[1;33m)\u001b[0m\u001b[1;33m)\u001b[0m\u001b[1;33m\u001b[0m\u001b[0m\n\u001b[0;32m     12\u001b[0m         \u001b[1;31m#get business ratings\u001b[0m\u001b[1;33m\u001b[0m\u001b[1;33m\u001b[0m\u001b[0m\n\u001b[1;32m---> 13\u001b[1;33m         \u001b[0mbusiness_profile\u001b[0m\u001b[1;33m(\u001b[0m\u001b[0mb\u001b[0m\u001b[1;33m[\u001b[0m\u001b[1;34m'id'\u001b[0m\u001b[1;33m]\u001b[0m\u001b[1;33m)\u001b[0m\u001b[1;33m\u001b[0m\u001b[0m\n\u001b[0m\u001b[0;32m     14\u001b[0m         \u001b[1;32mprint\u001b[0m \u001b[1;34m'\\n[----Next Business-----------------] \\n'\u001b[0m\u001b[1;33m\u001b[0m\u001b[0m\n\u001b[0;32m     15\u001b[0m \u001b[1;33m\u001b[0m\u001b[0m\n",
        "\u001b[1;32m<ipython-input-195-cc2d997921e5>\u001b[0m in \u001b[0;36mbusiness_profile\u001b[1;34m(bid)\u001b[0m\n\u001b[0;32m      1\u001b[0m \u001b[1;32mdef\u001b[0m \u001b[0mbusiness_profile\u001b[0m\u001b[1;33m(\u001b[0m\u001b[0mbid\u001b[0m\u001b[1;33m)\u001b[0m\u001b[1;33m:\u001b[0m\u001b[1;33m\u001b[0m\u001b[0m\n\u001b[1;32m----> 2\u001b[1;33m     \u001b[0mprofile\u001b[0m \u001b[1;33m=\u001b[0m \u001b[0mconnection\u001b[0m\u001b[1;33m(\u001b[0m\u001b[0myelp_business\u001b[0m\u001b[1;33m(\u001b[0m\u001b[0mbid\u001b[0m\u001b[1;33m)\u001b[0m\u001b[1;33m)\u001b[0m\u001b[1;33m\u001b[0m\u001b[0m\n\u001b[0m\u001b[0;32m      3\u001b[0m     \u001b[1;32mfor\u001b[0m \u001b[0mr\u001b[0m \u001b[1;32min\u001b[0m \u001b[0mprofile\u001b[0m\u001b[1;33m[\u001b[0m\u001b[1;34m'reviews'\u001b[0m\u001b[1;33m]\u001b[0m\u001b[1;33m:\u001b[0m\u001b[1;33m\u001b[0m\u001b[0m\n\u001b[0;32m      4\u001b[0m         \u001b[1;32mprint\u001b[0m \u001b[1;34m\"Rating=[%s] Review: %s\"\u001b[0m \u001b[1;33m%\u001b[0m \u001b[1;33m(\u001b[0m\u001b[0mr\u001b[0m\u001b[1;33m[\u001b[0m\u001b[1;34m'rating'\u001b[0m\u001b[1;33m]\u001b[0m\u001b[1;33m,\u001b[0m \u001b[0mr\u001b[0m\u001b[1;33m[\u001b[0m\u001b[1;34m'excerpt'\u001b[0m\u001b[1;33m]\u001b[0m\u001b[1;33m)\u001b[0m\u001b[1;33m\u001b[0m\u001b[0m\n",
        "\u001b[1;32m<ipython-input-188-31f87fe0c44c>\u001b[0m in \u001b[0;36mconnection\u001b[1;34m(url)\u001b[0m\n\u001b[0;32m      8\u001b[0m \u001b[1;33m\u001b[0m\u001b[0m\n\u001b[0;32m      9\u001b[0m     \u001b[1;32mtry\u001b[0m\u001b[1;33m:\u001b[0m\u001b[1;33m\u001b[0m\u001b[0m\n\u001b[1;32m---> 10\u001b[1;33m         \u001b[0mconn\u001b[0m \u001b[1;33m=\u001b[0m \u001b[0murllib2\u001b[0m\u001b[1;33m.\u001b[0m\u001b[0murlopen\u001b[0m\u001b[1;33m(\u001b[0m\u001b[0murl\u001b[0m\u001b[1;33m,\u001b[0m \u001b[0mNone\u001b[0m\u001b[1;33m)\u001b[0m\u001b[1;33m\u001b[0m\u001b[0m\n\u001b[0m\u001b[0;32m     11\u001b[0m         \u001b[1;32mtry\u001b[0m\u001b[1;33m:\u001b[0m\u001b[1;33m\u001b[0m\u001b[0m\n\u001b[0;32m     12\u001b[0m             \u001b[0mdata\u001b[0m \u001b[1;33m=\u001b[0m \u001b[0mjson\u001b[0m\u001b[1;33m.\u001b[0m\u001b[0mloads\u001b[0m\u001b[1;33m(\u001b[0m\u001b[0mconn\u001b[0m\u001b[1;33m.\u001b[0m\u001b[0mread\u001b[0m\u001b[1;33m(\u001b[0m\u001b[1;33m)\u001b[0m\u001b[1;33m)\u001b[0m\u001b[1;33m\u001b[0m\u001b[0m\n",
        "\u001b[1;32m/usr/lib/python2.7/urllib2.pyc\u001b[0m in \u001b[0;36murlopen\u001b[1;34m(url, data, timeout)\u001b[0m\n\u001b[0;32m    125\u001b[0m     \u001b[1;32mif\u001b[0m \u001b[0m_opener\u001b[0m \u001b[1;32mis\u001b[0m \u001b[0mNone\u001b[0m\u001b[1;33m:\u001b[0m\u001b[1;33m\u001b[0m\u001b[0m\n\u001b[0;32m    126\u001b[0m         \u001b[0m_opener\u001b[0m \u001b[1;33m=\u001b[0m \u001b[0mbuild_opener\u001b[0m\u001b[1;33m(\u001b[0m\u001b[1;33m)\u001b[0m\u001b[1;33m\u001b[0m\u001b[0m\n\u001b[1;32m--> 127\u001b[1;33m     \u001b[1;32mreturn\u001b[0m \u001b[0m_opener\u001b[0m\u001b[1;33m.\u001b[0m\u001b[0mopen\u001b[0m\u001b[1;33m(\u001b[0m\u001b[0murl\u001b[0m\u001b[1;33m,\u001b[0m \u001b[0mdata\u001b[0m\u001b[1;33m,\u001b[0m \u001b[0mtimeout\u001b[0m\u001b[1;33m)\u001b[0m\u001b[1;33m\u001b[0m\u001b[0m\n\u001b[0m\u001b[0;32m    128\u001b[0m \u001b[1;33m\u001b[0m\u001b[0m\n\u001b[0;32m    129\u001b[0m \u001b[1;32mdef\u001b[0m \u001b[0minstall_opener\u001b[0m\u001b[1;33m(\u001b[0m\u001b[0mopener\u001b[0m\u001b[1;33m)\u001b[0m\u001b[1;33m:\u001b[0m\u001b[1;33m\u001b[0m\u001b[0m\n",
        "\u001b[1;32m/usr/lib/python2.7/urllib2.pyc\u001b[0m in \u001b[0;36mopen\u001b[1;34m(self, fullurl, data, timeout)\u001b[0m\n\u001b[0;32m    402\u001b[0m             \u001b[0mreq\u001b[0m \u001b[1;33m=\u001b[0m \u001b[0mmeth\u001b[0m\u001b[1;33m(\u001b[0m\u001b[0mreq\u001b[0m\u001b[1;33m)\u001b[0m\u001b[1;33m\u001b[0m\u001b[0m\n\u001b[0;32m    403\u001b[0m \u001b[1;33m\u001b[0m\u001b[0m\n\u001b[1;32m--> 404\u001b[1;33m         \u001b[0mresponse\u001b[0m \u001b[1;33m=\u001b[0m \u001b[0mself\u001b[0m\u001b[1;33m.\u001b[0m\u001b[0m_open\u001b[0m\u001b[1;33m(\u001b[0m\u001b[0mreq\u001b[0m\u001b[1;33m,\u001b[0m \u001b[0mdata\u001b[0m\u001b[1;33m)\u001b[0m\u001b[1;33m\u001b[0m\u001b[0m\n\u001b[0m\u001b[0;32m    405\u001b[0m \u001b[1;33m\u001b[0m\u001b[0m\n\u001b[0;32m    406\u001b[0m         \u001b[1;31m# post-process response\u001b[0m\u001b[1;33m\u001b[0m\u001b[1;33m\u001b[0m\u001b[0m\n",
        "\u001b[1;32m/usr/lib/python2.7/urllib2.pyc\u001b[0m in \u001b[0;36m_open\u001b[1;34m(self, req, data)\u001b[0m\n\u001b[0;32m    420\u001b[0m         \u001b[0mprotocol\u001b[0m \u001b[1;33m=\u001b[0m \u001b[0mreq\u001b[0m\u001b[1;33m.\u001b[0m\u001b[0mget_type\u001b[0m\u001b[1;33m(\u001b[0m\u001b[1;33m)\u001b[0m\u001b[1;33m\u001b[0m\u001b[0m\n\u001b[0;32m    421\u001b[0m         result = self._call_chain(self.handle_open, protocol, protocol +\n\u001b[1;32m--> 422\u001b[1;33m                                   '_open', req)\n\u001b[0m\u001b[0;32m    423\u001b[0m         \u001b[1;32mif\u001b[0m \u001b[0mresult\u001b[0m\u001b[1;33m:\u001b[0m\u001b[1;33m\u001b[0m\u001b[0m\n\u001b[0;32m    424\u001b[0m             \u001b[1;32mreturn\u001b[0m \u001b[0mresult\u001b[0m\u001b[1;33m\u001b[0m\u001b[0m\n",
        "\u001b[1;32m/usr/lib/python2.7/urllib2.pyc\u001b[0m in \u001b[0;36m_call_chain\u001b[1;34m(self, chain, kind, meth_name, *args)\u001b[0m\n\u001b[0;32m    380\u001b[0m             \u001b[0mfunc\u001b[0m \u001b[1;33m=\u001b[0m \u001b[0mgetattr\u001b[0m\u001b[1;33m(\u001b[0m\u001b[0mhandler\u001b[0m\u001b[1;33m,\u001b[0m \u001b[0mmeth_name\u001b[0m\u001b[1;33m)\u001b[0m\u001b[1;33m\u001b[0m\u001b[0m\n\u001b[0;32m    381\u001b[0m \u001b[1;33m\u001b[0m\u001b[0m\n\u001b[1;32m--> 382\u001b[1;33m             \u001b[0mresult\u001b[0m \u001b[1;33m=\u001b[0m \u001b[0mfunc\u001b[0m\u001b[1;33m(\u001b[0m\u001b[1;33m*\u001b[0m\u001b[0margs\u001b[0m\u001b[1;33m)\u001b[0m\u001b[1;33m\u001b[0m\u001b[0m\n\u001b[0m\u001b[0;32m    383\u001b[0m             \u001b[1;32mif\u001b[0m \u001b[0mresult\u001b[0m \u001b[1;32mis\u001b[0m \u001b[1;32mnot\u001b[0m \u001b[0mNone\u001b[0m\u001b[1;33m:\u001b[0m\u001b[1;33m\u001b[0m\u001b[0m\n\u001b[0;32m    384\u001b[0m                 \u001b[1;32mreturn\u001b[0m \u001b[0mresult\u001b[0m\u001b[1;33m\u001b[0m\u001b[0m\n",
        "\u001b[1;32m/usr/lib/python2.7/urllib2.pyc\u001b[0m in \u001b[0;36mhttp_open\u001b[1;34m(self, req)\u001b[0m\n\u001b[0;32m   1212\u001b[0m \u001b[1;33m\u001b[0m\u001b[0m\n\u001b[0;32m   1213\u001b[0m     \u001b[1;32mdef\u001b[0m \u001b[0mhttp_open\u001b[0m\u001b[1;33m(\u001b[0m\u001b[0mself\u001b[0m\u001b[1;33m,\u001b[0m \u001b[0mreq\u001b[0m\u001b[1;33m)\u001b[0m\u001b[1;33m:\u001b[0m\u001b[1;33m\u001b[0m\u001b[0m\n\u001b[1;32m-> 1214\u001b[1;33m         \u001b[1;32mreturn\u001b[0m \u001b[0mself\u001b[0m\u001b[1;33m.\u001b[0m\u001b[0mdo_open\u001b[0m\u001b[1;33m(\u001b[0m\u001b[0mhttplib\u001b[0m\u001b[1;33m.\u001b[0m\u001b[0mHTTPConnection\u001b[0m\u001b[1;33m,\u001b[0m \u001b[0mreq\u001b[0m\u001b[1;33m)\u001b[0m\u001b[1;33m\u001b[0m\u001b[0m\n\u001b[0m\u001b[0;32m   1215\u001b[0m \u001b[1;33m\u001b[0m\u001b[0m\n\u001b[0;32m   1216\u001b[0m     \u001b[0mhttp_request\u001b[0m \u001b[1;33m=\u001b[0m \u001b[0mAbstractHTTPHandler\u001b[0m\u001b[1;33m.\u001b[0m\u001b[0mdo_request_\u001b[0m\u001b[1;33m\u001b[0m\u001b[0m\n",
        "\u001b[1;32m/usr/lib/python2.7/urllib2.pyc\u001b[0m in \u001b[0;36mdo_open\u001b[1;34m(self, http_class, req)\u001b[0m\n\u001b[0;32m   1179\u001b[0m \u001b[1;33m\u001b[0m\u001b[0m\n\u001b[0;32m   1180\u001b[0m         \u001b[1;32mtry\u001b[0m\u001b[1;33m:\u001b[0m\u001b[1;33m\u001b[0m\u001b[0m\n\u001b[1;32m-> 1181\u001b[1;33m             \u001b[0mh\u001b[0m\u001b[1;33m.\u001b[0m\u001b[0mrequest\u001b[0m\u001b[1;33m(\u001b[0m\u001b[0mreq\u001b[0m\u001b[1;33m.\u001b[0m\u001b[0mget_method\u001b[0m\u001b[1;33m(\u001b[0m\u001b[1;33m)\u001b[0m\u001b[1;33m,\u001b[0m \u001b[0mreq\u001b[0m\u001b[1;33m.\u001b[0m\u001b[0mget_selector\u001b[0m\u001b[1;33m(\u001b[0m\u001b[1;33m)\u001b[0m\u001b[1;33m,\u001b[0m \u001b[0mreq\u001b[0m\u001b[1;33m.\u001b[0m\u001b[0mdata\u001b[0m\u001b[1;33m,\u001b[0m \u001b[0mheaders\u001b[0m\u001b[1;33m)\u001b[0m\u001b[1;33m\u001b[0m\u001b[0m\n\u001b[0m\u001b[0;32m   1182\u001b[0m         \u001b[1;32mexcept\u001b[0m \u001b[0msocket\u001b[0m\u001b[1;33m.\u001b[0m\u001b[0merror\u001b[0m\u001b[1;33m,\u001b[0m \u001b[0merr\u001b[0m\u001b[1;33m:\u001b[0m \u001b[1;31m# XXX what error?\u001b[0m\u001b[1;33m\u001b[0m\u001b[0m\n\u001b[0;32m   1183\u001b[0m             \u001b[0mh\u001b[0m\u001b[1;33m.\u001b[0m\u001b[0mclose\u001b[0m\u001b[1;33m(\u001b[0m\u001b[1;33m)\u001b[0m\u001b[1;33m\u001b[0m\u001b[0m\n",
        "\u001b[1;32m/usr/lib/python2.7/httplib.pyc\u001b[0m in \u001b[0;36mrequest\u001b[1;34m(self, method, url, body, headers)\u001b[0m\n\u001b[0;32m    971\u001b[0m     \u001b[1;32mdef\u001b[0m \u001b[0mrequest\u001b[0m\u001b[1;33m(\u001b[0m\u001b[0mself\u001b[0m\u001b[1;33m,\u001b[0m \u001b[0mmethod\u001b[0m\u001b[1;33m,\u001b[0m \u001b[0murl\u001b[0m\u001b[1;33m,\u001b[0m \u001b[0mbody\u001b[0m\u001b[1;33m=\u001b[0m\u001b[0mNone\u001b[0m\u001b[1;33m,\u001b[0m \u001b[0mheaders\u001b[0m\u001b[1;33m=\u001b[0m\u001b[1;33m{\u001b[0m\u001b[1;33m}\u001b[0m\u001b[1;33m)\u001b[0m\u001b[1;33m:\u001b[0m\u001b[1;33m\u001b[0m\u001b[0m\n\u001b[0;32m    972\u001b[0m         \u001b[1;34m\"\"\"Send a complete request to the server.\"\"\"\u001b[0m\u001b[1;33m\u001b[0m\u001b[0m\n\u001b[1;32m--> 973\u001b[1;33m         \u001b[0mself\u001b[0m\u001b[1;33m.\u001b[0m\u001b[0m_send_request\u001b[0m\u001b[1;33m(\u001b[0m\u001b[0mmethod\u001b[0m\u001b[1;33m,\u001b[0m \u001b[0murl\u001b[0m\u001b[1;33m,\u001b[0m \u001b[0mbody\u001b[0m\u001b[1;33m,\u001b[0m \u001b[0mheaders\u001b[0m\u001b[1;33m)\u001b[0m\u001b[1;33m\u001b[0m\u001b[0m\n\u001b[0m\u001b[0;32m    974\u001b[0m \u001b[1;33m\u001b[0m\u001b[0m\n\u001b[0;32m    975\u001b[0m     \u001b[1;32mdef\u001b[0m \u001b[0m_set_content_length\u001b[0m\u001b[1;33m(\u001b[0m\u001b[0mself\u001b[0m\u001b[1;33m,\u001b[0m \u001b[0mbody\u001b[0m\u001b[1;33m)\u001b[0m\u001b[1;33m:\u001b[0m\u001b[1;33m\u001b[0m\u001b[0m\n",
        "\u001b[1;32m/usr/lib/python2.7/httplib.pyc\u001b[0m in \u001b[0;36m_send_request\u001b[1;34m(self, method, url, body, headers)\u001b[0m\n\u001b[0;32m   1005\u001b[0m         \u001b[1;32mfor\u001b[0m \u001b[0mhdr\u001b[0m\u001b[1;33m,\u001b[0m \u001b[0mvalue\u001b[0m \u001b[1;32min\u001b[0m \u001b[0mheaders\u001b[0m\u001b[1;33m.\u001b[0m\u001b[0miteritems\u001b[0m\u001b[1;33m(\u001b[0m\u001b[1;33m)\u001b[0m\u001b[1;33m:\u001b[0m\u001b[1;33m\u001b[0m\u001b[0m\n\u001b[0;32m   1006\u001b[0m             \u001b[0mself\u001b[0m\u001b[1;33m.\u001b[0m\u001b[0mputheader\u001b[0m\u001b[1;33m(\u001b[0m\u001b[0mhdr\u001b[0m\u001b[1;33m,\u001b[0m \u001b[0mvalue\u001b[0m\u001b[1;33m)\u001b[0m\u001b[1;33m\u001b[0m\u001b[0m\n\u001b[1;32m-> 1007\u001b[1;33m         \u001b[0mself\u001b[0m\u001b[1;33m.\u001b[0m\u001b[0mendheaders\u001b[0m\u001b[1;33m(\u001b[0m\u001b[0mbody\u001b[0m\u001b[1;33m)\u001b[0m\u001b[1;33m\u001b[0m\u001b[0m\n\u001b[0m\u001b[0;32m   1008\u001b[0m \u001b[1;33m\u001b[0m\u001b[0m\n\u001b[0;32m   1009\u001b[0m     \u001b[1;32mdef\u001b[0m \u001b[0mgetresponse\u001b[0m\u001b[1;33m(\u001b[0m\u001b[0mself\u001b[0m\u001b[1;33m,\u001b[0m \u001b[0mbuffering\u001b[0m\u001b[1;33m=\u001b[0m\u001b[0mFalse\u001b[0m\u001b[1;33m)\u001b[0m\u001b[1;33m:\u001b[0m\u001b[1;33m\u001b[0m\u001b[0m\n",
        "\u001b[1;32m/usr/lib/python2.7/httplib.pyc\u001b[0m in \u001b[0;36mendheaders\u001b[1;34m(self, message_body)\u001b[0m\n\u001b[0;32m    967\u001b[0m         \u001b[1;32melse\u001b[0m\u001b[1;33m:\u001b[0m\u001b[1;33m\u001b[0m\u001b[0m\n\u001b[0;32m    968\u001b[0m             \u001b[1;32mraise\u001b[0m \u001b[0mCannotSendHeader\u001b[0m\u001b[1;33m(\u001b[0m\u001b[1;33m)\u001b[0m\u001b[1;33m\u001b[0m\u001b[0m\n\u001b[1;32m--> 969\u001b[1;33m         \u001b[0mself\u001b[0m\u001b[1;33m.\u001b[0m\u001b[0m_send_output\u001b[0m\u001b[1;33m(\u001b[0m\u001b[0mmessage_body\u001b[0m\u001b[1;33m)\u001b[0m\u001b[1;33m\u001b[0m\u001b[0m\n\u001b[0m\u001b[0;32m    970\u001b[0m \u001b[1;33m\u001b[0m\u001b[0m\n\u001b[0;32m    971\u001b[0m     \u001b[1;32mdef\u001b[0m \u001b[0mrequest\u001b[0m\u001b[1;33m(\u001b[0m\u001b[0mself\u001b[0m\u001b[1;33m,\u001b[0m \u001b[0mmethod\u001b[0m\u001b[1;33m,\u001b[0m \u001b[0murl\u001b[0m\u001b[1;33m,\u001b[0m \u001b[0mbody\u001b[0m\u001b[1;33m=\u001b[0m\u001b[0mNone\u001b[0m\u001b[1;33m,\u001b[0m \u001b[0mheaders\u001b[0m\u001b[1;33m=\u001b[0m\u001b[1;33m{\u001b[0m\u001b[1;33m}\u001b[0m\u001b[1;33m)\u001b[0m\u001b[1;33m:\u001b[0m\u001b[1;33m\u001b[0m\u001b[0m\n",
        "\u001b[1;32m/usr/lib/python2.7/httplib.pyc\u001b[0m in \u001b[0;36m_send_output\u001b[1;34m(self, message_body)\u001b[0m\n\u001b[0;32m    827\u001b[0m             \u001b[0mmsg\u001b[0m \u001b[1;33m+=\u001b[0m \u001b[0mmessage_body\u001b[0m\u001b[1;33m\u001b[0m\u001b[0m\n\u001b[0;32m    828\u001b[0m             \u001b[0mmessage_body\u001b[0m \u001b[1;33m=\u001b[0m \u001b[0mNone\u001b[0m\u001b[1;33m\u001b[0m\u001b[0m\n\u001b[1;32m--> 829\u001b[1;33m         \u001b[0mself\u001b[0m\u001b[1;33m.\u001b[0m\u001b[0msend\u001b[0m\u001b[1;33m(\u001b[0m\u001b[0mmsg\u001b[0m\u001b[1;33m)\u001b[0m\u001b[1;33m\u001b[0m\u001b[0m\n\u001b[0m\u001b[0;32m    830\u001b[0m         \u001b[1;32mif\u001b[0m \u001b[0mmessage_body\u001b[0m \u001b[1;32mis\u001b[0m \u001b[1;32mnot\u001b[0m \u001b[0mNone\u001b[0m\u001b[1;33m:\u001b[0m\u001b[1;33m\u001b[0m\u001b[0m\n\u001b[0;32m    831\u001b[0m             \u001b[1;31m#message_body was not a string (i.e. it is a file) and\u001b[0m\u001b[1;33m\u001b[0m\u001b[1;33m\u001b[0m\u001b[0m\n",
        "\u001b[1;32m/usr/lib/python2.7/httplib.pyc\u001b[0m in \u001b[0;36msend\u001b[1;34m(self, data)\u001b[0m\n\u001b[0;32m    803\u001b[0m                 \u001b[0mdatablock\u001b[0m \u001b[1;33m=\u001b[0m \u001b[0mdata\u001b[0m\u001b[1;33m.\u001b[0m\u001b[0mread\u001b[0m\u001b[1;33m(\u001b[0m\u001b[0mblocksize\u001b[0m\u001b[1;33m)\u001b[0m\u001b[1;33m\u001b[0m\u001b[0m\n\u001b[0;32m    804\u001b[0m         \u001b[1;32melse\u001b[0m\u001b[1;33m:\u001b[0m\u001b[1;33m\u001b[0m\u001b[0m\n\u001b[1;32m--> 805\u001b[1;33m             \u001b[0mself\u001b[0m\u001b[1;33m.\u001b[0m\u001b[0msock\u001b[0m\u001b[1;33m.\u001b[0m\u001b[0msendall\u001b[0m\u001b[1;33m(\u001b[0m\u001b[0mdata\u001b[0m\u001b[1;33m)\u001b[0m\u001b[1;33m\u001b[0m\u001b[0m\n\u001b[0m\u001b[0;32m    806\u001b[0m \u001b[1;33m\u001b[0m\u001b[0m\n\u001b[0;32m    807\u001b[0m     \u001b[1;32mdef\u001b[0m \u001b[0m_output\u001b[0m\u001b[1;33m(\u001b[0m\u001b[0mself\u001b[0m\u001b[1;33m,\u001b[0m \u001b[0ms\u001b[0m\u001b[1;33m)\u001b[0m\u001b[1;33m:\u001b[0m\u001b[1;33m\u001b[0m\u001b[0m\n",
        "\u001b[1;32m/usr/lib/python2.7/socket.pyc\u001b[0m in \u001b[0;36mmeth\u001b[1;34m(name, self, *args)\u001b[0m\n\u001b[0;32m    222\u001b[0m \u001b[1;33m\u001b[0m\u001b[0m\n\u001b[0;32m    223\u001b[0m \u001b[1;32mdef\u001b[0m \u001b[0mmeth\u001b[0m\u001b[1;33m(\u001b[0m\u001b[0mname\u001b[0m\u001b[1;33m,\u001b[0m\u001b[0mself\u001b[0m\u001b[1;33m,\u001b[0m\u001b[1;33m*\u001b[0m\u001b[0margs\u001b[0m\u001b[1;33m)\u001b[0m\u001b[1;33m:\u001b[0m\u001b[1;33m\u001b[0m\u001b[0m\n\u001b[1;32m--> 224\u001b[1;33m     \u001b[1;32mreturn\u001b[0m \u001b[0mgetattr\u001b[0m\u001b[1;33m(\u001b[0m\u001b[0mself\u001b[0m\u001b[1;33m.\u001b[0m\u001b[0m_sock\u001b[0m\u001b[1;33m,\u001b[0m\u001b[0mname\u001b[0m\u001b[1;33m)\u001b[0m\u001b[1;33m(\u001b[0m\u001b[1;33m*\u001b[0m\u001b[0margs\u001b[0m\u001b[1;33m)\u001b[0m\u001b[1;33m\u001b[0m\u001b[0m\n\u001b[0m\u001b[0;32m    225\u001b[0m \u001b[1;33m\u001b[0m\u001b[0m\n\u001b[0;32m    226\u001b[0m \u001b[1;32mfor\u001b[0m \u001b[0m_m\u001b[0m \u001b[1;32min\u001b[0m \u001b[0m_socketmethods\u001b[0m\u001b[1;33m:\u001b[0m\u001b[1;33m\u001b[0m\u001b[0m\n",
        "\u001b[1;31mUnicodeEncodeError\u001b[0m: 'ascii' codec can't encode character u'\\xf3' in position 25: ordinal not in range(128)"
       ]
      },
      {
       "output_type": "stream",
       "stream": "stdout",
       "text": [
        "\n",
        "Rating=[4] Review: Overall, this place is the generic greasy Chinese food one hopes for. \n",
        "\n",
        "The General Tso's chicken is quite good. They offer brown rice as an alternative to...\n",
        "Rating=[3] Review: Yup, it's generic Chinese food. I was in the mood for lunch one day at work and surprisingly this is one of the few around 7th and 32nd. There's a lot of...\n",
        "\n",
        "[----Next Business-----------------] \n",
        "\n",
        "Name=[Tir na n\u00d3g], Phone # [+1-212-630-0249], dist=[3.71 blocks], Rating [3.5] stars from 97 reviews\n"
       ]
      }
     ],
     "prompt_number": 209
    },
    {
     "cell_type": "code",
     "collapsed": false,
     "input": [],
     "language": "python",
     "metadata": {},
     "outputs": []
    }
   ],
   "metadata": {}
  }
 ]
}