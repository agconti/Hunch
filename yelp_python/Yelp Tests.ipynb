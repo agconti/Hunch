{
 "metadata": {
  "name": ""
 },
 "nbformat": 3,
 "nbformat_minor": 0,
 "worksheets": [
  {
   "cells": [
    {
     "cell_type": "markdown",
     "metadata": {},
     "source": [
      "Yelp Tests"
     ]
    },
    {
     "cell_type": "code",
     "collapsed": false,
     "input": [
      "import passwords\n",
      "import base64"
     ],
     "language": "python",
     "metadata": {},
     "outputs": [],
     "prompt_number": 1
    },
    {
     "cell_type": "code",
     "collapsed": false,
     "input": [
      "my_info = passwords.get_secure_info()"
     ],
     "language": "python",
     "metadata": {},
     "outputs": [],
     "prompt_number": 2
    },
    {
     "cell_type": "code",
     "collapsed": false,
     "input": [
      "\"\"\"Example for signing a search request using the oauth2 library.\"\"\"\n",
      "\n",
      "import oauth2\n",
      "\n",
      "# Fill in these values\n",
      "consumer_key = base64.b64decode(my_info['Consumer_Key'])\n",
      "consumer_secret = base64.b64decode(my_info['Consumer_Secret'])\n",
      "token = base64.b64decode(my_info['Token'])\n",
      "token_secret = base64.b64decode(my_info['Token_Secret'])\n",
      "\n",
      "consumer = oauth2.Consumer(consumer_key, consumer_secret)\n",
      "url = 'http://api.yelp.com/v2/search?term=bars&location=sf'\n",
      "\n",
      "print 'URL: %s' % (url,)\n",
      "\n",
      "oauth_request = oauth2.Request('GET', url, {})\n",
      "oauth_request.update({'oauth_nonce': oauth2.generate_nonce(),\n",
      "                      'oauth_timestamp': oauth2.generate_timestamp(),\n",
      "                      'oauth_token': token,\n",
      "                      'oauth_consumer_key': consumer_key})\n",
      "\n",
      "token = oauth2.Token(token, token_secret)\n",
      "\n",
      "oauth_request.sign_request(oauth2.SignatureMethod_HMAC_SHA1(), consumer, token)\n",
      "\n",
      "signed_url = oauth_request.to_url()\n",
      "\n",
      "print 'Signed URL: %s' % (signed_url,)"
     ],
     "language": "python",
     "metadata": {},
     "outputs": [
      {
       "output_type": "stream",
       "stream": "stdout",
       "text": [
        "URL: http://api.yelp.com/v2/search?term=bars&location=sf\n",
        "Signed URL: http://api.yelp.com/v2/search?oauth_body_hash=2jmj7l5rSw0yVb%2FvlWAYkK%2FYBwk%3D&term=bars&oauth_nonce=20354863&oauth_timestamp=1374601266&oauth_consumer_key=dcBFeMtcaXbzyydg7uwvag&oauth_signature_method=HMAC-SHA1&oauth_token=QZIR30R600iFHoU1jln7tNyuWcwluDq1&location=sf&oauth_signature=J5%2F606BVPb2ks9DWhgVPBJvc5ZA%3D\n"
       ]
      }
     ],
     "prompt_number": 32
    },
    {
     "cell_type": "code",
     "collapsed": false,
     "input": [
      "signed_url"
     ],
     "language": "python",
     "metadata": {},
     "outputs": [
      {
       "metadata": {},
       "output_type": "pyout",
       "prompt_number": 41,
       "text": [
        "u'http://api.yelp.com/v2/search?oauth_body_hash=2jmj7l5rSw0yVb%2FvlWAYkK%2FYBwk%3D&term=bars&oauth_nonce=20354863&oauth_timestamp=1374601266&oauth_consumer_key=dcBFeMtcaXbzyydg7uwvag&oauth_signature_method=HMAC-SHA1&oauth_token=QZIR30R600iFHoU1jln7tNyuWcwluDq1&location=sf&oauth_signature=J5%2F606BVPb2ks9DWhgVPBJvc5ZA%3D'"
       ]
      }
     ],
     "prompt_number": 41
    },
    {
     "cell_type": "code",
     "collapsed": false,
     "input": [
      "import urllib2\n",
      "import json\n",
      "\n",
      "response = urllib2.urlopen(signed_url)\n",
      "data = json.load(response)   \n",
      "print data"
     ],
     "language": "python",
     "metadata": {},
     "outputs": [
      {
       "output_type": "stream",
       "stream": "stdout",
       "text": [
        "{u'region': {u'span': {u'latitude_delta': 0.06520745000000261, u'longitude_delta': 0.06665516000001048}, u'center': {u'latitude': 37.76896135, u'longitude': -122.4335778}}, u'total': 3482, u'businesses': [{u'is_claimed': True, u'rating': 5.0, u'mobile_url': u'http://m.yelp.com/biz/antologia-vinoteca-san-francisco-2', u'rating_img_url': u'http://s3-media1.ak.yelpcdn.com/assets/2/www/img/f1def11e4e79/ico/stars/v1/stars_5.png', u'review_count': 30, u'name': u'Antologia Vinoteca', u'rating_img_url_small': u'http://s3-media1.ak.yelpcdn.com/assets/2/www/img/c7623205d5cd/ico/stars/v1/stars_small_5.png', u'url': u'http://www.yelp.com/biz/antologia-vinoteca-san-francisco-2', u'is_closed': False, u'phone': u'4152748423', u'snippet_text': u\"Great place to grab a glass of Latin American wine. They also have a decent selection of Latin American beer. If you're into sangria, it's a must try here...\", u'image_url': u'http://s3-media4.ak.yelpcdn.com/bphoto/mEGSghCoQEHOy4xfbMKliw/ms.jpg', u'categories': [[u'Wine Bars', u'wine_bars']], u'display_phone': u'+1-415-274-8423', u'rating_img_url_large': u'http://s3-media3.ak.yelpcdn.com/assets/2/www/img/22affc4e6c38/ico/stars/v1/stars_large_5.png', u'id': u'antologia-vinoteca-san-francisco-2', u'snippet_image_url': u'http://s3-media1.ak.yelpcdn.com/photo/7_hxA3pUpALvtXg3lrJ2iA/ms.jpg', u'location': {u'cross_streets': u'Romolo Pl & Kearny St', u'city': u'San Francisco', u'display_address': [u'515 Broadway St', u'(b/t Romolo Pl & Kearny St)', u'North Beach/Telegraph Hill', u'San Francisco, CA 94133'], u'neighborhoods': [u'North Beach/Telegraph Hill', u'Chinatown'], u'postal_code': u'94133', u'country_code': u'US', u'address': [u'515 Broadway St'], u'state_code': u'CA'}}, {u'is_claimed': True, u'rating': 4.5, u'mobile_url': u'http://m.yelp.com/biz/last-call-bar-san-francisco-2', u'rating_img_url': u'http://s3-media2.ak.yelpcdn.com/assets/2/www/img/99493c12711e/ico/stars/v1/stars_4_half.png', u'review_count': 38, u'name': u'Last Call Bar', u'rating_img_url_small': u'http://s3-media2.ak.yelpcdn.com/assets/2/www/img/a5221e66bc70/ico/stars/v1/stars_small_4_half.png', u'url': u'http://www.yelp.com/biz/last-call-bar-san-francisco-2', u'is_closed': False, u'phone': u'4158611310', u'snippet_text': u'always passed by this bar on the way home (years ago when i frequented bars), never thought twice about stepping foot in it.\\n\\nimpromptu night out for drinks...', u'image_url': u'http://s3-media1.ak.yelpcdn.com/bphoto/Gnohh_1WvfILLV36UZBiLw/ms.jpg', u'categories': [[u'Gay Bars', u'gaybars'], [u'Dive Bars', u'divebars'], [u'Pubs', u'pubs']], u'display_phone': u'+1-415-861-1310', u'rating_img_url_large': u'http://s3-media4.ak.yelpcdn.com/assets/2/www/img/9f83790ff7f6/ico/stars/v1/stars_large_4_half.png', u'id': u'last-call-bar-san-francisco-2', u'snippet_image_url': u'http://s3-media1.ak.yelpcdn.com/photo/EsWhUpMkB61s5hBNNWayKQ/ms.jpg', u'location': {u'cross_streets': u'Sanchez St & Noe St', u'city': u'San Francisco', u'display_address': [u'3988 18th St', u'(b/t Sanchez St & Noe St)', u'Castro', u'San Francisco, CA 94114'], u'neighborhoods': [u'Castro'], u'postal_code': u'94114', u'country_code': u'US', u'address': [u'3988 18th St'], u'state_code': u'CA'}}, {u'is_claimed': True, u'rating': 4.0, u'mobile_url': u'http://m.yelp.com/biz/stray-bar-san-francisco', u'rating_img_url': u'http://s3-media4.ak.yelpcdn.com/assets/2/www/img/c2f3dd9799a5/ico/stars/v1/stars_4.png', u'review_count': 100, u'name': u'Stray Bar', u'rating_img_url_small': u'http://s3-media4.ak.yelpcdn.com/assets/2/www/img/f62a5be2f902/ico/stars/v1/stars_small_4.png', u'url': u'http://www.yelp.com/biz/stray-bar-san-francisco', u'is_closed': False, u'phone': u'4158219263', u'snippet_text': u\"If I lived in this neighborhood you'd probably find me here after work - a lot!  Better yet - maybe if I lived only walking distance from here maybe you'd...\", u'image_url': u'http://s3-media3.ak.yelpcdn.com/bphoto/PSMxgIe8j4LTGGQeDnlakA/ms.jpg', u'categories': [[u'Sports Bars', u'sportsbars'], [u'Lounges', u'lounges'], [u'Gay Bars', u'gaybars']], u'display_phone': u'+1-415-821-9263', u'rating_img_url_large': u'http://s3-media2.ak.yelpcdn.com/assets/2/www/img/ccf2b76faa2c/ico/stars/v1/stars_large_4.png', u'id': u'stray-bar-san-francisco', u'snippet_image_url': u'http://s3-media4.ak.yelpcdn.com/photo/_6BH4PMMb6aTFG_lcOXDZQ/ms.jpg', u'location': {u'cross_streets': u'Bocana St & Bennington St', u'city': u'San Francisco', u'display_address': [u'309 Cortland Ave', u'(b/t Bocana St & Bennington St)', u'Bernal Heights', u'San Francisco, CA 94110'], u'neighborhoods': [u'Bernal Heights'], u'postal_code': u'94110', u'country_code': u'US', u'address': [u'309 Cortland Ave'], u'state_code': u'CA'}}, {u'is_claimed': True, u'rating': 4.0, u'mobile_url': u'http://m.yelp.com/biz/thieves-tavern-san-francisco', u'rating_img_url': u'http://s3-media4.ak.yelpcdn.com/assets/2/www/img/c2f3dd9799a5/ico/stars/v1/stars_4.png', u'review_count': 200, u'name': u'Thieves Tavern', u'rating_img_url_small': u'http://s3-media4.ak.yelpcdn.com/assets/2/www/img/f62a5be2f902/ico/stars/v1/stars_small_4.png', u'url': u'http://www.yelp.com/biz/thieves-tavern-san-francisco', u'is_closed': False, u'phone': u'4152529082', u'snippet_text': u\"The jukebox here alone has so much good stuff on it. I dunno if anyone recognized my selections but that's ok.\\n\\nThey also have a couple of pool tables, old...\", u'image_url': u'http://s3-media3.ak.yelpcdn.com/bphoto/I9lyTSB6jIklFZ3jgfBbew/ms.jpg', u'categories': [[u'Pubs', u'pubs']], u'display_phone': u'+1-415-252-9082', u'rating_img_url_large': u'http://s3-media2.ak.yelpcdn.com/assets/2/www/img/ccf2b76faa2c/ico/stars/v1/stars_large_4.png', u'id': u'thieves-tavern-san-francisco', u'snippet_image_url': u'http://s3-media3.ak.yelpcdn.com/photo/o7afv09nIw9Sim1-e4--fw/ms.jpg', u'location': {u'cross_streets': u'Guerrero St & Valencia St', u'city': u'San Francisco', u'display_address': [u'496 14th St', u'(b/t Guerrero St & Valencia St)', u'Mission', u'San Francisco, CA 94103'], u'neighborhoods': [u'Mission'], u'postal_code': u'94103', u'country_code': u'US', u'address': [u'496 14th St'], u'state_code': u'CA'}}, {u'is_claimed': False, u'rating': 4.0, u'mobile_url': u'http://m.yelp.com/biz/3300-club-san-francisco', u'rating_img_url': u'http://s3-media4.ak.yelpcdn.com/assets/2/www/img/c2f3dd9799a5/ico/stars/v1/stars_4.png', u'review_count': 69, u'name': u'3300 Club', u'rating_img_url_small': u'http://s3-media4.ak.yelpcdn.com/assets/2/www/img/f62a5be2f902/ico/stars/v1/stars_small_4.png', u'url': u'http://www.yelp.com/biz/3300-club-san-francisco', u'is_closed': False, u'phone': u'4158266886', u'snippet_text': u'The 3300 is the friendliest place to drink in all of The Mission. There are plenty or regulars and the vibe is almost always overwhelmingly positive. The...', u'image_url': u'http://s3-media2.ak.yelpcdn.com/bphoto/zblJNPNhIbvpWv1WETeKYg/ms.jpg', u'categories': [[u'Dive Bars', u'divebars']], u'display_phone': u'+1-415-826-6886', u'rating_img_url_large': u'http://s3-media2.ak.yelpcdn.com/assets/2/www/img/ccf2b76faa2c/ico/stars/v1/stars_large_4.png', u'id': u'3300-club-san-francisco', u'snippet_image_url': u'http://s3-media4.ak.yelpcdn.com/photo/-JTkVkmD1BxKbk24gFch_g/ms.jpg', u'location': {u'cross_streets': u'29th St & Virginia Ave', u'city': u'San Francisco', u'display_address': [u'3300 Mission St', u'(b/t 29th St & Virginia Ave)', u'Bernal Heights', u'San Francisco, CA 94110'], u'neighborhoods': [u'Bernal Heights', u'Mission'], u'postal_code': u'94110', u'country_code': u'US', u'address': [u'3300 Mission St'], u'state_code': u'CA'}}, {u'is_claimed': True, u'rating': 4.0, u'mobile_url': u'http://m.yelp.com/biz/noc-noc-san-francisco', u'rating_img_url': u'http://s3-media4.ak.yelpcdn.com/assets/2/www/img/c2f3dd9799a5/ico/stars/v1/stars_4.png', u'review_count': 429, u'name': u'Noc Noc', u'rating_img_url_small': u'http://s3-media4.ak.yelpcdn.com/assets/2/www/img/f62a5be2f902/ico/stars/v1/stars_small_4.png', u'url': u'http://www.yelp.com/biz/noc-noc-san-francisco', u'is_closed': False, u'phone': u'4158615811', u'snippet_text': u\"It has a while since I've been to this bar, but it brings back fond memories of college and biking with my friend thru the park late at night and going down...\", u'image_url': u'http://s3-media4.ak.yelpcdn.com/bphoto/F54nvnUFcV6vsNGP4qDw3g/ms.jpg', u'categories': [[u'Lounges', u'lounges']], u'display_phone': u'+1-415-861-5811', u'rating_img_url_large': u'http://s3-media2.ak.yelpcdn.com/assets/2/www/img/ccf2b76faa2c/ico/stars/v1/stars_large_4.png', u'id': u'noc-noc-san-francisco', u'snippet_image_url': u'http://s3-media1.ak.yelpcdn.com/photo/3RH_LnlWcQbfiOI4iwEbpw/ms.jpg', u'location': {u'cross_streets': u'Fillmore St & Steiner St', u'city': u'San Francisco', u'display_address': [u'557 Haight St', u'(b/t Fillmore St & Steiner St)', u'Lower Haight', u'San Francisco, CA 94117'], u'neighborhoods': [u'Lower Haight'], u'postal_code': u'94117', u'country_code': u'US', u'address': [u'557 Haight St'], u'state_code': u'CA'}}, {u'is_claimed': True, u'rating': 4.5, u'mobile_url': u'http://m.yelp.com/biz/rock-bar-san-francisco', u'rating_img_url': u'http://s3-media2.ak.yelpcdn.com/assets/2/www/img/99493c12711e/ico/stars/v1/stars_4_half.png', u'review_count': 42, u'name': u'Rock Bar', u'rating_img_url_small': u'http://s3-media2.ak.yelpcdn.com/assets/2/www/img/a5221e66bc70/ico/stars/v1/stars_small_4_half.png', u'url': u'http://www.yelp.com/biz/rock-bar-san-francisco', u'is_closed': False, u'phone': u'4155506664', u'snippet_text': u'Cozy teetering on the edge of pretty. Warm lighting that makes everyone look good. Close to home. Pool. Great music. Solid drinks. Cute boys and girls.\\n\\nxoxo', u'image_url': u'http://s3-media2.ak.yelpcdn.com/bphoto/jZ-15gPyK0Q_BK7EPcUOpg/ms.jpg', u'categories': [[u'Bars', u'bars']], u'display_phone': u'+1-415-550-6664', u'rating_img_url_large': u'http://s3-media4.ak.yelpcdn.com/assets/2/www/img/9f83790ff7f6/ico/stars/v1/stars_large_4_half.png', u'id': u'rock-bar-san-francisco', u'snippet_image_url': u'http://s3-media2.ak.yelpcdn.com/photo/exIr1g3rS-9Kdfe_EYmYCw/ms.jpg', u'location': {u'cross_streets': u'Tiffany Ave & San Jose Ave', u'city': u'San Francisco', u'display_address': [u'80 29th St', u'(b/t Tiffany Ave & San Jose Ave)', u'Bernal Heights', u'San Francisco, CA 94110'], u'neighborhoods': [u'Bernal Heights', u'Mission'], u'postal_code': u'94110', u'country_code': u'US', u'address': [u'80 29th St'], u'state_code': u'CA'}}, {u'is_claimed': True, u'rating': 4.5, u'mobile_url': u'http://m.yelp.com/biz/barrique-san-francisco-2', u'rating_img_url': u'http://s3-media2.ak.yelpcdn.com/assets/2/www/img/99493c12711e/ico/stars/v1/stars_4_half.png', u'review_count': 173, u'name': u'Barrique', u'rating_img_url_small': u'http://s3-media2.ak.yelpcdn.com/assets/2/www/img/a5221e66bc70/ico/stars/v1/stars_small_4_half.png', u'url': u'http://www.yelp.com/biz/barrique-san-francisco-2', u'is_closed': False, u'phone': u'4154219200', u'snippet_text': u'Most definitely one of my favorite wine bars in the city. \\n\\nBarrique has what I would classify as an illusive, intimate and somewhat sexily forbidden...', u'image_url': u'http://s3-media2.ak.yelpcdn.com/bphoto/syzTAlzHIPbK9-iuKSuLhg/ms.jpg', u'categories': [[u'Wine Bars', u'wine_bars']], u'display_phone': u'+1-415-421-9200', u'rating_img_url_large': u'http://s3-media4.ak.yelpcdn.com/assets/2/www/img/9f83790ff7f6/ico/stars/v1/stars_large_4_half.png', u'id': u'barrique-san-francisco-2', u'snippet_image_url': u'http://s3-media3.ak.yelpcdn.com/photo/g4jUFMA8oR3e-m0y-66VdA/ms.jpg', u'location': {u'cross_streets': u'Osgood Pl & Montgomery St', u'city': u'San Francisco', u'display_address': [u'461 Pacific Ave', u'(b/t Osgood Pl & Montgomery St)', u'Financial District', u'San Francisco, CA 94133'], u'neighborhoods': [u'Financial District'], u'postal_code': u'94133', u'country_code': u'US', u'address': [u'461 Pacific Ave'], u'state_code': u'CA'}}, {u'is_claimed': True, u'rating': 4.5, u'mobile_url': u'http://m.yelp.com/biz/the-black-horse-london-pub-san-francisco', u'rating_img_url': u'http://s3-media2.ak.yelpcdn.com/assets/2/www/img/99493c12711e/ico/stars/v1/stars_4_half.png', u'review_count': 212, u'name': u'The Black Horse London Pub', u'rating_img_url_small': u'http://s3-media2.ak.yelpcdn.com/assets/2/www/img/a5221e66bc70/ico/stars/v1/stars_small_4_half.png', u'url': u'http://www.yelp.com/biz/the-black-horse-london-pub-san-francisco', u'is_closed': False, u'phone': u'4159282414', u'snippet_text': u\"I wouldn't miss coming here when we are in town.  It's just awesome.  \\nJames, the owner, is very welcoming and so are the other bartenders.  It's a tiny...\", u'image_url': u'http://s3-media2.ak.yelpcdn.com/bphoto/Ii9fKzgFRlHmGiQxvAEzUg/ms.jpg', u'categories': [[u'Pubs', u'pubs']], u'display_phone': u'+1-415-928-2414', u'rating_img_url_large': u'http://s3-media4.ak.yelpcdn.com/assets/2/www/img/9f83790ff7f6/ico/stars/v1/stars_large_4_half.png', u'id': u'the-black-horse-london-pub-san-francisco', u'snippet_image_url': u'http://s3-media3.ak.yelpcdn.com/photo/85PIQ36Y149HhHJXlCiY_A/ms.jpg', u'location': {u'cross_streets': u'United States Highway 101 & Franklin St', u'city': u'San Francisco', u'display_address': [u'1514 Union St', u'(b/t United States Highway 101 & Franklin St)', u'Marina/Cow Hollow', u'San Francisco, CA 94123'], u'neighborhoods': [u'Marina/Cow Hollow'], u'postal_code': u'94123', u'country_code': u'US', u'address': [u'1514 Union St'], u'state_code': u'CA'}}, {u'is_claimed': True, u'rating': 4.0, u'mobile_url': u'http://m.yelp.com/biz/butter-san-francisco', u'rating_img_url': u'http://s3-media4.ak.yelpcdn.com/assets/2/www/img/c2f3dd9799a5/ico/stars/v1/stars_4.png', u'review_count': 929, u'name': u'Butter', u'rating_img_url_small': u'http://s3-media4.ak.yelpcdn.com/assets/2/www/img/f62a5be2f902/ico/stars/v1/stars_small_4.png', u'url': u'http://www.yelp.com/biz/butter-san-francisco', u'is_closed': False, u'phone': u'4158635964', u'snippet_text': u\"BUTTER.\\n\\nButter is the bar I make a beeline for whenever I'm feeling rambunctious. It's always a little too crowded and the drinks are always a little too...\", u'image_url': u'http://s3-media3.ak.yelpcdn.com/bphoto/J6QSdHNbuyLmTVwtIWkr6g/ms.jpg', u'categories': [[u'Dive Bars', u'divebars'], [u'American (Traditional)', u'tradamerican'], [u'Dance Clubs', u'danceclubs']], u'display_phone': u'+1-415-863-5964', u'rating_img_url_large': u'http://s3-media2.ak.yelpcdn.com/assets/2/www/img/ccf2b76faa2c/ico/stars/v1/stars_large_4.png', u'id': u'butter-san-francisco', u'snippet_image_url': u'http://s3-media2.ak.yelpcdn.com/photo/RAIRoACjYQ5qe58re4yXAw/ms.jpg', u'location': {u'cross_streets': u'Folsom St & Harrison St', u'city': u'San Francisco', u'display_address': [u'354 11th St', u'(b/t Folsom St & Harrison St)', u'SoMa', u'San Francisco, CA 94103'], u'neighborhoods': [u'SoMa'], u'postal_code': u'94103', u'country_code': u'US', u'address': [u'354 11th St'], u'state_code': u'CA'}}, {u'is_claimed': False, u'rating': 4.5, u'mobile_url': u'http://m.yelp.com/biz/city-beer-store-san-francisco', u'rating_img_url': u'http://s3-media2.ak.yelpcdn.com/assets/2/www/img/99493c12711e/ico/stars/v1/stars_4_half.png', u'review_count': 507, u'name': u'City Beer Store', u'rating_img_url_small': u'http://s3-media2.ak.yelpcdn.com/assets/2/www/img/a5221e66bc70/ico/stars/v1/stars_small_4_half.png', u'url': u'http://www.yelp.com/biz/city-beer-store-san-francisco', u'is_closed': False, u'phone': u'4155031033', u'snippet_text': u\"well, i am drunk yelping sooo i think city beer store did the job. \\n\\npretty sure my beer was 11.5%. i had two. i'm pretty small. i'm a lightweight. you do...\", u'image_url': u'http://s3-media3.ak.yelpcdn.com/bphoto/oFY1Jl7nLYR1GFm9KJD-hw/ms.jpg', u'categories': [[u'Beer, Wine & Spirits', u'beer_and_wine'], [u'Wine Bars', u'wine_bars']], u'display_phone': u'+1-415-503-1033', u'rating_img_url_large': u'http://s3-media4.ak.yelpcdn.com/assets/2/www/img/9f83790ff7f6/ico/stars/v1/stars_large_4_half.png', u'id': u'city-beer-store-san-francisco', u'snippet_image_url': u'http://s3-media4.ak.yelpcdn.com/photo/RGRyT_DzupUt3x8DGgj3eA/ms.jpg', u'location': {u'cross_streets': u'Hallam St & Langton St', u'city': u'San Francisco', u'display_address': [u'1168 Folsom St', u'(b/t Hallam St & Langton St)', u'SoMa', u'San Francisco, CA 94103'], u'neighborhoods': [u'SoMa'], u'postal_code': u'94103', u'country_code': u'US', u'address': [u'1168 Folsom St'], u'state_code': u'CA'}}, {u'is_claimed': True, u'rating': 4.0, u'mobile_url': u'http://m.yelp.com/biz/terroir-natural-wine-merchant-san-francisco', u'rating_img_url': u'http://s3-media4.ak.yelpcdn.com/assets/2/www/img/c2f3dd9799a5/ico/stars/v1/stars_4.png', u'review_count': 280, u'name': u'Terroir Natural Wine Merchant', u'rating_img_url_small': u'http://s3-media4.ak.yelpcdn.com/assets/2/www/img/f62a5be2f902/ico/stars/v1/stars_small_4.png', u'url': u'http://www.yelp.com/biz/terroir-natural-wine-merchant-san-francisco', u'is_closed': False, u'phone': u'4155589946', u'snippet_text': u'I have come here more than one time in the past four years due to the fact that my husband and I love the SOMA and Mission area, we do our best to stay...', u'image_url': u'http://s3-media4.ak.yelpcdn.com/bphoto/hxdZFRGy2PkbwNjEN6O8VQ/ms.jpg', u'categories': [[u'Wine Bars', u'wine_bars']], u'display_phone': u'+1-415-558-9946', u'rating_img_url_large': u'http://s3-media2.ak.yelpcdn.com/assets/2/www/img/ccf2b76faa2c/ico/stars/v1/stars_large_4.png', u'id': u'terroir-natural-wine-merchant-san-francisco', u'snippet_image_url': u'http://s3-media4.ak.yelpcdn.com/photo/XX7Ix5IGoBl_Lh-1JcsP9w/ms.jpg', u'location': {u'cross_streets': u'7th St & Langton St', u'city': u'San Francisco', u'display_address': [u'1116 Folsom St', u'(b/t 7th St & Langton St)', u'SoMa', u'San Francisco, CA 94103'], u'neighborhoods': [u'SoMa'], u'postal_code': u'94103', u'country_code': u'US', u'address': [u'1116 Folsom St'], u'state_code': u'CA'}}, {u'is_claimed': False, u'rating': 4.5, u'mobile_url': u'http://m.yelp.com/biz/21-club-san-francisco', u'rating_img_url': u'http://s3-media2.ak.yelpcdn.com/assets/2/www/img/99493c12711e/ico/stars/v1/stars_4_half.png', u'review_count': 69, u'name': u'21 Club', u'rating_img_url_small': u'http://s3-media2.ak.yelpcdn.com/assets/2/www/img/a5221e66bc70/ico/stars/v1/stars_small_4_half.png', u'url': u'http://www.yelp.com/biz/21-club-san-francisco', u'is_closed': False, u'phone': u'4157719655', u'snippet_text': u\"So for everyone on here talking about Frank, that's my dad. My dad has spent every single night most of my life (now he takes Sundays off) dedicating...\", u'image_url': u'http://s3-media3.ak.yelpcdn.com/bphoto/ly4rUCvVVBcO-Q5IHPI8-g/ms.jpg', u'categories': [[u'Dive Bars', u'divebars']], u'display_phone': u'+1-415-771-9655', u'rating_img_url_large': u'http://s3-media4.ak.yelpcdn.com/assets/2/www/img/9f83790ff7f6/ico/stars/v1/stars_large_4_half.png', u'id': u'21-club-san-francisco', u'snippet_image_url': u'http://s3-media2.ak.yelpcdn.com/photo/fXUxR14fRQJObaMGRZQPvw/ms.jpg', u'location': {u'cross_streets': u'Mason St & Market St', u'city': u'San Francisco', u'display_address': [u'98 Turk St', u'(b/t Mason St & Market St)', u'Tenderloin', u'San Francisco, CA 94102'], u'neighborhoods': [u'Tenderloin', u'Union Square'], u'postal_code': u'94102', u'country_code': u'US', u'address': [u'98 Turk St'], u'state_code': u'CA'}}, {u'is_claimed': False, u'rating': 4.0, u'mobile_url': u'http://m.yelp.com/biz/smugglers-cove-san-francisco', u'rating_img_url': u'http://s3-media4.ak.yelpcdn.com/assets/2/www/img/c2f3dd9799a5/ico/stars/v1/stars_4.png', u'review_count': 710, u'name': u\"Smuggler's Cove\", u'rating_img_url_small': u'http://s3-media4.ak.yelpcdn.com/assets/2/www/img/f62a5be2f902/ico/stars/v1/stars_small_4.png', u'url': u'http://www.yelp.com/biz/smugglers-cove-san-francisco', u'is_closed': False, u'phone': u'4158691900', u'snippet_text': u\"This has instantly become one of my top 3 bars in San Francisco.  We went on a Tuesday night so it wasn't very crowded.\\nThey have got an insanely sweet...\", u'image_url': u'http://s3-media2.ak.yelpcdn.com/bphoto/jgS2RXKtswPzM3InD7bERg/ms.jpg', u'categories': [[u'Bars', u'bars'], [u'Venues & Event Spaces', u'venues']], u'display_phone': u'+1-415-869-1900', u'rating_img_url_large': u'http://s3-media2.ak.yelpcdn.com/assets/2/www/img/ccf2b76faa2c/ico/stars/v1/stars_large_4.png', u'id': u'smugglers-cove-san-francisco', u'snippet_image_url': u'http://s3-media3.ak.yelpcdn.com/photo/7GF4rY7tUKBXb8LAhTjMEg/ms.jpg', u'location': {u'cross_streets': u'Mcallister St & Ash St', u'city': u'San Francisco', u'display_address': [u'650 Gough St', u'(b/t Mcallister St & Ash St)', u'Fillmore', u'San Francisco, CA 94102'], u'neighborhoods': [u'Fillmore'], u'postal_code': u'94102', u'country_code': u'US', u'address': [u'650 Gough St'], u'state_code': u'CA'}}, {u'is_claimed': True, u'rating': 4.5, u'mobile_url': u'http://m.yelp.com/biz/dirty-trix-saloon-san-francisco', u'rating_img_url': u'http://s3-media2.ak.yelpcdn.com/assets/2/www/img/99493c12711e/ico/stars/v1/stars_4_half.png', u'review_count': 78, u'name': u'Dirty Trix Saloon', u'rating_img_url_small': u'http://s3-media2.ak.yelpcdn.com/assets/2/www/img/a5221e66bc70/ico/stars/v1/stars_small_4_half.png', u'url': u'http://www.yelp.com/biz/dirty-trix-saloon-san-francisco', u'is_closed': False, u'phone': u'4153871400', u'snippet_text': u'Yeah, Dirty Trix? I happen to wander into you during a really bad date and you just *happen* to be a Chicago sports bar that made the prior awkwardness of...', u'image_url': u'http://s3-media4.ak.yelpcdn.com/bphoto/T77nF_IyiWQxiJc6tCQdpw/ms.jpg', u'categories': [[u'Dive Bars', u'divebars']], u'display_phone': u'+1-415-387-1400', u'rating_img_url_large': u'http://s3-media4.ak.yelpcdn.com/assets/2/www/img/9f83790ff7f6/ico/stars/v1/stars_large_4_half.png', u'id': u'dirty-trix-saloon-san-francisco', u'snippet_image_url': u'http://s3-media4.ak.yelpcdn.com/photo/FQC81f_MXLH_wplaa9lQOQ/ms.jpg', u'location': {u'cross_streets': u'5th Ave & 6th Ave', u'city': u'San Francisco', u'display_address': [u'408 Clement St', u'(b/t 5th Ave & 6th Ave)', u'Inner Richmond', u'San Francisco, CA 94118'], u'neighborhoods': [u'Inner Richmond'], u'postal_code': u'94118', u'country_code': u'US', u'address': [u'408 Clement St'], u'state_code': u'CA'}}, {u'is_claimed': False, u'rating': 4.0, u'mobile_url': u'http://m.yelp.com/biz/trax-san-francisco', u'rating_img_url': u'http://s3-media4.ak.yelpcdn.com/assets/2/www/img/c2f3dd9799a5/ico/stars/v1/stars_4.png', u'review_count': 128, u'name': u'Trax', u'rating_img_url_small': u'http://s3-media4.ak.yelpcdn.com/assets/2/www/img/f62a5be2f902/ico/stars/v1/stars_small_4.png', u'url': u'http://www.yelp.com/biz/trax-san-francisco', u'is_closed': False, u'phone': u'4158644213', u'snippet_text': u\"Robert's the best! Other bartenders hubs and I have met, Anthony are Shando were pretty nice, too. Sometimes they'll have movies playing on tv, sometimes...\", u'image_url': u'http://s3-media1.ak.yelpcdn.com/bphoto/LlqQQhm0FFfbEoj66Sf1cQ/ms.jpg', u'categories': [[u'Gay Bars', u'gaybars'], [u'Dive Bars', u'divebars']], u'display_phone': u'+1-415-864-4213', u'rating_img_url_large': u'http://s3-media2.ak.yelpcdn.com/assets/2/www/img/ccf2b76faa2c/ico/stars/v1/stars_large_4.png', u'id': u'trax-san-francisco', u'snippet_image_url': u'http://s3-media3.ak.yelpcdn.com/photo/AGRq5gEZt9zzxonnimD9fw/ms.jpg', u'location': {u'cross_streets': u'Ashbury St & Masonic Ave', u'city': u'San Francisco', u'display_address': [u'1437 Haight St', u'(b/t Ashbury St & Masonic Ave)', u'The Haight', u'San Francisco, CA 94117'], u'neighborhoods': [u'The Haight'], u'postal_code': u'94117', u'country_code': u'US', u'address': [u'1437 Haight St'], u'state_code': u'CA'}}, {u'is_claimed': True, u'rating': 4.0, u'mobile_url': u'http://m.yelp.com/biz/danny-coyles-san-francisco', u'rating_img_url': u'http://s3-media4.ak.yelpcdn.com/assets/2/www/img/c2f3dd9799a5/ico/stars/v1/stars_4.png', u'review_count': 267, u'name': u\"Danny Coyle's\", u'rating_img_url_small': u'http://s3-media4.ak.yelpcdn.com/assets/2/www/img/f62a5be2f902/ico/stars/v1/stars_small_4.png', u'url': u'http://www.yelp.com/biz/danny-coyles-san-francisco', u'is_closed': False, u'phone': u'4155588375', u'snippet_text': u\"This is my alumni bar... and it's around the corner from my apartment... so 5 stars was kind of a given. BUT, luckily enough for me, DC's happens to earn...\", u'image_url': u'http://s3-media2.ak.yelpcdn.com/bphoto/HzQ269wc-q5QJJ3lbLmW_w/ms.jpg', u'categories': [[u'Pubs', u'pubs'], [u'Sports Bars', u'sportsbars']], u'display_phone': u'+1-415-558-8375', u'rating_img_url_large': u'http://s3-media2.ak.yelpcdn.com/assets/2/www/img/ccf2b76faa2c/ico/stars/v1/stars_large_4.png', u'id': u'danny-coyles-san-francisco', u'snippet_image_url': u'http://s3-media2.ak.yelpcdn.com/photo/IXI5qtzn04yks8WvqH8sRg/ms.jpg', u'location': {u'cross_streets': u'Pierce St & Steiner St', u'city': u'San Francisco', u'display_address': [u'668 Haight St', u'(b/t Pierce St & Steiner St)', u'Lower Haight', u'San Francisco, CA 94117'], u'neighborhoods': [u'Lower Haight'], u'postal_code': u'94117', u'country_code': u'US', u'address': [u'668 Haight St'], u'state_code': u'CA'}}, {u'is_claimed': False, u'rating': 4.0, u'mobile_url': u'http://m.yelp.com/biz/soda-popinskis-san-francisco', u'rating_img_url': u'http://s3-media4.ak.yelpcdn.com/assets/2/www/img/c2f3dd9799a5/ico/stars/v1/stars_4.png', u'review_count': 51, u'name': u\"Soda Popinski's\", u'rating_img_url_small': u'http://s3-media4.ak.yelpcdn.com/assets/2/www/img/f62a5be2f902/ico/stars/v1/stars_small_4.png', u'url': u'http://www.yelp.com/biz/soda-popinskis-san-francisco', u'is_closed': False, u'phone': u'4158571548', u'snippet_text': u'This place has a classic Nintendo in the back and greyhounds made with freeze squeezed (to order) ruby red grapefruits.\\n\\nBy far my favorite drink in the...', u'image_url': u'http://s3-media4.ak.yelpcdn.com/bphoto/4DWKYmkmDprY-L3F5AkkSw/ms.jpg', u'categories': [[u'Bars', u'bars']], u'display_phone': u'+1-415-857-1548', u'rating_img_url_large': u'http://s3-media2.ak.yelpcdn.com/assets/2/www/img/ccf2b76faa2c/ico/stars/v1/stars_large_4.png', u'id': u'soda-popinskis-san-francisco', u'snippet_image_url': u'http://s3-media1.ak.yelpcdn.com/photo/dHGn71YdBXaj-kVr-srmaA/ms.jpg', u'location': {u'cross_streets': u'Polk St & Larkin St', u'city': u'San Francisco', u'display_address': [u'1548 California St', u'(b/t Polk St & Larkin St)', u'Nob Hill', u'San Francisco, CA 94109'], u'neighborhoods': [u'Nob Hill'], u'postal_code': u'94109', u'country_code': u'US', u'address': [u'1548 California St'], u'state_code': u'CA'}}, {u'is_claimed': False, u'rating': 4.0, u'mobile_url': u'http://m.yelp.com/biz/geary-club-san-francisco', u'rating_img_url': u'http://s3-media4.ak.yelpcdn.com/assets/2/www/img/c2f3dd9799a5/ico/stars/v1/stars_4.png', u'review_count': 83, u'name': u'Geary Club', u'rating_img_url_small': u'http://s3-media4.ak.yelpcdn.com/assets/2/www/img/f62a5be2f902/ico/stars/v1/stars_small_4.png', u'url': u'http://www.yelp.com/biz/geary-club-san-francisco', u'is_closed': False, u'phone': u'4154419336', u'snippet_text': u'this is how bars in the tenderloin tended to be when i lived there. not so anymore. i love this place...i love the bartenders, the jukebox, even the tiny...', u'image_url': u'http://s3-media4.ak.yelpcdn.com/bphoto/h-6iSjGMTMCmCwJbu34l4g/ms.jpg', u'categories': [[u'Dive Bars', u'divebars']], u'display_phone': u'+1-415-441-9336', u'rating_img_url_large': u'http://s3-media2.ak.yelpcdn.com/assets/2/www/img/ccf2b76faa2c/ico/stars/v1/stars_large_4.png', u'id': u'geary-club-san-francisco', u'snippet_image_url': u'http://s3-media2.ak.yelpcdn.com/photo/idHMM7P8tUGOQRoFDLzq2g/ms.jpg', u'location': {u'cross_streets': u'Hyde St', u'city': u'San Francisco', u'display_address': [u'768 Geary St', u'(b/t Hyde St)', u'Tenderloin', u'San Francisco, CA 94109'], u'neighborhoods': [u'Tenderloin'], u'postal_code': u'94109', u'country_code': u'US', u'address': [u'768 Geary St'], u'state_code': u'CA'}}, {u'is_claimed': True, u'rating': 4.0, u'mobile_url': u'http://m.yelp.com/biz/amelie-san-francisco', u'rating_img_url': u'http://s3-media4.ak.yelpcdn.com/assets/2/www/img/c2f3dd9799a5/ico/stars/v1/stars_4.png', u'review_count': 918, u'name': u'Amelie', u'rating_img_url_small': u'http://s3-media4.ak.yelpcdn.com/assets/2/www/img/f62a5be2f902/ico/stars/v1/stars_small_4.png', u'url': u'http://www.yelp.com/biz/amelie-san-francisco', u'is_closed': False, u'phone': u'4152926916', u'snippet_text': u'L O V E this place! The charcuterie, wine selection, cheese selection completely won me over. Randomly stumbled upon this place because my gf wanted to hit...', u'image_url': u'http://s3-media2.ak.yelpcdn.com/bphoto/A2bgvs4gOW1TW2z7vvlhYg/ms.jpg', u'categories': [[u'Wine Bars', u'wine_bars'], [u'Lounges', u'lounges'], [u'French', u'french']], u'display_phone': u'+1-415-292-6916', u'rating_img_url_large': u'http://s3-media2.ak.yelpcdn.com/assets/2/www/img/ccf2b76faa2c/ico/stars/v1/stars_large_4.png', u'id': u'amelie-san-francisco', u'snippet_image_url': u'http://s3-media4.ak.yelpcdn.com/photo/zJkLZeo3rtZPEXKGqqG9-Q/ms.jpg', u'location': {u'cross_streets': u'Clay St & Washington St', u'city': u'San Francisco', u'display_address': [u'1754 Polk St', u'(b/t Clay St & Washington St)', u'Nob Hill', u'San Francisco, CA 94109'], u'neighborhoods': [u'Nob Hill'], u'postal_code': u'94109', u'country_code': u'US', u'address': [u'1754 Polk St'], u'state_code': u'CA'}}]}\n"
       ]
      }
     ],
     "prompt_number": 34
    },
    {
     "cell_type": "code",
     "collapsed": false,
     "input": [
      "data['businesses']\n",
      "for b in data['businesses']:\n",
      "    print b['name']"
     ],
     "language": "python",
     "metadata": {},
     "outputs": [
      {
       "output_type": "stream",
       "stream": "stdout",
       "text": [
        "Antologia Vinoteca\n",
        "Last Call Bar\n",
        "Stray Bar\n",
        "Thieves Tavern\n",
        "3300 Club\n",
        "Noc Noc\n",
        "Rock Bar\n",
        "Barrique\n",
        "The Black Horse London Pub\n",
        "Butter\n",
        "City Beer Store\n",
        "Terroir Natural Wine Merchant\n",
        "21 Club\n",
        "Smuggler's Cove\n",
        "Dirty Trix Saloon\n",
        "Trax\n",
        "Danny Coyle's\n",
        "Soda Popinski's\n",
        "Geary Club\n",
        "Amelie\n"
       ]
      }
     ],
     "prompt_number": 42
    },
    {
     "cell_type": "heading",
     "level": 1,
     "metadata": {},
     "source": [
      "Now as a function "
     ]
    },
    {
     "cell_type": "code",
     "collapsed": false,
     "input": [
      "def yelp_search(search_term):   \n",
      "    \"\"\"\n",
      "    signs a yelp search request using the oauth2 library.\n",
      "    \"\"\"\n",
      "    \n",
      "    import oauth2\n",
      "    import base64\n",
      "    import passwords\n",
      "    \n",
      "    #get passwords\n",
      "    my_info = passwords.get_secure_info()\n",
      "    #'decrypt passwords'\n",
      "    consumer_key = base64.b64decode(my_info['Consumer_Key'])\n",
      "    consumer_secret = base64.b64decode(my_info['Consumer_Secret'])\n",
      "    token = base64.b64decode(my_info['Token'])\n",
      "    token_secret = base64.b64decode(my_info['Token_Secret'])\n",
      "    \n",
      "    \n",
      "    #set querry vars\n",
      "    reonomy_loc = '40.749281,-73.994369' # lat long coordinates\n",
      "    distance = '400'                     # 5 blocks in meters\n",
      "    \n",
      "    #set querry\n",
      "    url = ('http://api.yelp.com/v2/search?' \\\n",
      "            'sort=2&' \\\n",
      "            'term=%s&' \\\n",
      "            'll=%s&' \\\n",
      "            'radius_filter=%s'\\\n",
      "             %\n",
      "            (search_term, reonomy_loc, distance))\n",
      "    \n",
      "    # use oauth2 to sign request and make querry\n",
      "    consumer = oauth2.Consumer(consumer_key, consumer_secret)\n",
      "    oauth_request = oauth2.Request('GET', url, {})\n",
      "    oauth_request.update({'oauth_nonce': oauth2.generate_nonce(),\n",
      "                          'oauth_timestamp': oauth2.generate_timestamp(),\n",
      "                          'oauth_token': token,\n",
      "                          'oauth_consumer_key': consumer_key})\n",
      "    \n",
      "    token = oauth2.Token(token, token_secret)\n",
      "    \n",
      "    oauth_request.sign_request(oauth2.SignatureMethod_HMAC_SHA1(), consumer, token)\n",
      "    \n",
      "    signed_url = oauth_request.to_url()\n",
      "    \n",
      "    return signed_url"
     ],
     "language": "python",
     "metadata": {},
     "outputs": [],
     "prompt_number": 93
    },
    {
     "cell_type": "code",
     "collapsed": false,
     "input": [
      "def yelp_business(bid):   \n",
      "    \"\"\"\n",
      "    signs a yelp search request using the oauth2 library.\n",
      "    \"\"\"\n",
      "    \n",
      "    import oauth2\n",
      "    import base64\n",
      "    import passwords\n",
      "    \n",
      "    #get passwords\n",
      "    my_info = passwords.get_secure_info()\n",
      "    #'decrypt passwords'\n",
      "    consumer_key = base64.b64decode(my_info['Consumer_Key'])\n",
      "    consumer_secret = base64.b64decode(my_info['Consumer_Secret'])\n",
      "    token = base64.b64decode(my_info['Token'])\n",
      "    token_secret = base64.b64decode(my_info['Token_Secret'])\n",
      "    \n",
      "    #set querry\n",
      "    url = ('http://api.yelp.com/v2/business/%s' % bid)\n",
      "    \n",
      "    # use oauth2 to sign request and make querry\n",
      "    consumer = oauth2.Consumer(consumer_key, consumer_secret)\n",
      "    oauth_request = oauth2.Request('GET', url, {})\n",
      "    oauth_request.update({'oauth_nonce': oauth2.generate_nonce(),\n",
      "                          'oauth_timestamp': oauth2.generate_timestamp(),\n",
      "                          'oauth_token': token,\n",
      "                          'oauth_consumer_key': consumer_key})\n",
      "    \n",
      "    token = oauth2.Token(token, token_secret)\n",
      "    \n",
      "    oauth_request.sign_request(oauth2.SignatureMethod_HMAC_SHA1(), consumer, token)\n",
      "    \n",
      "    signed_url = oauth_request.to_url()\n",
      "    \n",
      "    return signed_url"
     ],
     "language": "python",
     "metadata": {},
     "outputs": [],
     "prompt_number": 169
    },
    {
     "cell_type": "code",
     "collapsed": false,
     "input": [
      "import urllib2\n",
      "import json\n",
      "\n",
      "response = urllib2.urlopen(yelp_search('soup'))\n",
      "data = json.load(response)   \n",
      "for b in data['businesses']:\n",
      "    print b['name']"
     ],
     "language": "python",
     "metadata": {},
     "outputs": [
      {
       "output_type": "stream",
       "stream": "stdout",
       "text": [
        "Soup Spot\n",
        "Pio Pio Riko\n",
        "New York Pizza Suprema\n",
        "Salumeria Biellese\n",
        "Mooncake Foods\n",
        "Banana Leaf\n",
        "Loving Hut\n",
        "Molly Wee Pub\n",
        "Express Chinese & Japanese\n",
        "Biricchino Northern Italian Cuisine\n",
        "Urban Kitchen\n",
        "Cafe 27\n",
        "Mexicue\n",
        "Stout NYC\n",
        "Pret A Manger\n",
        "Panera Bread\n",
        "Uncle Nick's Greek Cuisine\n",
        "Manhattan Soup Man\n",
        "Nick & Stef's Steakhouse\n",
        "Ichiban\n"
       ]
      }
     ],
     "prompt_number": 94
    },
    {
     "cell_type": "code",
     "collapsed": false,
     "input": [
      "def dist_convert(dist_meters):\n",
      "    '''\n",
      "    takes a distance in meteres and returns a distance in NYC Blocks\n",
      "    '''\n",
      "    feet_conversion = 3.28\n",
      "    block_conversion = 264\n",
      "    return ((dist_meters * feet_conversion) / block_conversion)"
     ],
     "language": "python",
     "metadata": {},
     "outputs": [],
     "prompt_number": 140
    },
    {
     "cell_type": "code",
     "collapsed": false,
     "input": [
      "def connection(url):\n",
      "    '''\n",
      "    connects to yelp to extract data\n",
      "    '''\n",
      "    import urllib\n",
      "    import urllib2\n",
      "    import json\n",
      "    \n",
      "    try:\n",
      "        conn = urllib2.urlopen(url, None)\n",
      "        try:\n",
      "            data = json.loads(conn.read())\n",
      "        finally:\n",
      "            conn.close()\n",
      "    except urllib2.HTTPError, error:\n",
      "        data = json.loads(error.read())\n",
      "    \n",
      "    return data"
     ],
     "language": "python",
     "metadata": {},
     "outputs": [],
     "prompt_number": 167
    },
    {
     "cell_type": "code",
     "collapsed": false,
     "input": [
      "def find_lunch(search_term):\n",
      "    '''\n",
      "    querries yelp to get a list of delicous resturants\n",
      "    '''\n",
      "    \n",
      "    #get search data from data from yelp\n",
      "    data = connection(yelp_search(search_term))\n",
      "    \n",
      "    #explore data\n",
      "    for b in data['businesses']:\n",
      "        print ('Name=[%s], Phone # [%s], dist=[%2f], Rating [%s] stars from %s reviews' \\\n",
      "               %(b['name'], b['display_phone'], dist_convert(b['distance']), b['rating'], b['review_count']))\n",
      "        print b['snippet_text'],  b['snippet_image_url']\n",
      "        return b\n",
      "        break"
     ],
     "language": "python",
     "metadata": {},
     "outputs": [],
     "prompt_number": 164
    },
    {
     "cell_type": "code",
     "collapsed": false,
     "input": [
      "soup = find_lunch('soup')"
     ],
     "language": "python",
     "metadata": {},
     "outputs": [
      {
       "output_type": "stream",
       "stream": "stdout",
       "text": [
        "Name=[Soup Spot], Phone # [+1-212-643-8623], dist=[1.765811], Rating [4.5] stars from 120 reviews\n",
        "My new favorite place to have lunch! It's a super tiny hole in the wall joint that has rotating soup options. With each soup (even the small ones), you get... http://s3-media3.ak.yelpcdn.com/photo/k3nBVwBTL8mE0m4VQIr54w/ms.jpg\n"
       ]
      }
     ],
     "prompt_number": 165
    },
    {
     "cell_type": "code",
     "collapsed": false,
     "input": [
      "import IPython.display as dsp"
     ],
     "language": "python",
     "metadata": {},
     "outputs": [],
     "prompt_number": 124
    },
    {
     "cell_type": "code",
     "collapsed": false,
     "input": [
      "dsp.Image(url=soup['rating_img_url_large'])"
     ],
     "language": "python",
     "metadata": {},
     "outputs": [
      {
       "html": [
        "<img src=\"http://s3-media4.ak.yelpcdn.com/assets/2/www/img/9f83790ff7f6/ico/stars/v1/stars_large_4_half.png\"/>"
       ],
       "metadata": {},
       "output_type": "pyout",
       "prompt_number": 125,
       "text": [
        "<IPython.core.display.Image at 0x3848e10>"
       ]
      }
     ],
     "prompt_number": 125
    },
    {
     "cell_type": "code",
     "collapsed": false,
     "input": [
      "dsp.Image(url=soup['image_url'])"
     ],
     "language": "python",
     "metadata": {},
     "outputs": [
      {
       "html": [
        "<img src=\"http://s3-media1.ak.yelpcdn.com/bphoto/E9dZBBNYFoPvnzk-p9hUqg/ms.jpg\"/>"
       ],
       "metadata": {},
       "output_type": "pyout",
       "prompt_number": 126,
       "text": [
        "<IPython.core.display.Image at 0x3848c90>"
       ]
      }
     ],
     "prompt_number": 126
    },
    {
     "cell_type": "code",
     "collapsed": false,
     "input": [
      "soup['id']"
     ],
     "language": "python",
     "metadata": {},
     "outputs": [
      {
       "metadata": {},
       "output_type": "pyout",
       "prompt_number": 162,
       "text": [
        "u'soup-spot-new-york'"
       ]
      }
     ],
     "prompt_number": 162
    },
    {
     "cell_type": "code",
     "collapsed": false,
     "input": [
      "def business_profile(bid):\n",
      "    profile = connection(yelp_business(bid))\n",
      "    for r in profile['reviews']:\n",
      "        print \"Rating=[%s] Review: %s\" % (r['rating'], r['excerpt'])"
     ],
     "language": "python",
     "metadata": {},
     "outputs": [],
     "prompt_number": 178
    },
    {
     "cell_type": "code",
     "collapsed": false,
     "input": [
      "business_profile(soup['id'])\n",
      " "
     ],
     "language": "python",
     "metadata": {},
     "outputs": [
      {
       "output_type": "stream",
       "stream": "stdout",
       "text": [
        "Rating=[4] Review: This is my new favorite place to go during lunchtime! It's a perfect spot to grab a delicious lunch and take it back to the office or find a place outside...\n",
        "Rating=[5] Review: My new favorite place to have lunch! It's a super tiny hole in the wall joint that has rotating soup options. With each soup (even the small ones), you get...\n",
        "Rating=[3] Review: Like Chipotle near 34th and 8th, this place always has a line during lunch but moves pretty quickly. \n",
        "\n",
        "Soup Spot has a vast array of soups but only 18...\n"
       ]
      }
     ],
     "prompt_number": 179
    },
    {
     "cell_type": "code",
     "collapsed": false,
     "input": [
      "%load business.py"
     ],
     "language": "python",
     "metadata": {},
     "outputs": [],
     "prompt_number": 172
    },
    {
     "cell_type": "code",
     "collapsed": false,
     "input": [
      "import json\n",
      "import oauth2\n",
      "import optparse\n",
      "import urllib\n",
      "import urllib2\n",
      "\n",
      "parser = optparse.OptionParser()\n",
      "parser.add_option('-c', '--consumer_key', dest='consumer_key', help='OAuth consumer key (REQUIRED)')\n",
      "parser.add_option('-s', '--consumer_secret', dest='consumer_secret', help='OAuth consumer secret (REQUIRED)')\n",
      "parser.add_option('-t', '--token', dest='token', help='OAuth token (REQUIRED)')\n",
      "parser.add_option('-e', '--token_secret', dest='token_secret', help='OAuth token secret (REQUIRED)')\n",
      "parser.add_option('-a', '--host', dest='host', help='Host', default='api.yelp.com')\n",
      "parser.add_option('-i', '--id', dest='id', help='Business')\n",
      "parser.add_option('-u', '--cc', dest='cc', help='Country code')\n",
      "parser.add_option('-n', '--lang', dest='lang', help='Language code')\n",
      "\n",
      "\n",
      "options, args = parser.parse_args()\n",
      "\n",
      "# Required options\n",
      "if not options.consumer_key:\n",
      "  parser.error('--consumer_key required')\n",
      "if not options.consumer_secret:\n",
      "  parser.error('--consumer_secret required')\n",
      "if not options.token:\n",
      "  parser.error('--token required')\n",
      "if not options.token_secret:\n",
      "  parser.error('--token_secret required')\n",
      "\n",
      "if not options.id:\n",
      "  parser.error('--id required')\n",
      "\n",
      "url_params = {}\n",
      "if options.cc:\n",
      "  url_params['cc'] = options.cc\n",
      "if options.lang:\n",
      "  url_params['lang'] = options.lang\n",
      "\n",
      "\n",
      "path = '/v2/business/%s' % (options.id,)\n",
      "\n",
      "\n",
      "def request(host, path, url_params, consumer_key, consumer_secret, token, token_secret):\n",
      "  \"\"\"Returns response for API request.\"\"\"\n",
      "  # Unsigned URL\n",
      "  encoded_params = ''\n",
      "  if url_params:\n",
      "    encoded_params = urllib.urlencode(url_params)\n",
      "  url = 'http://%s%s?%s' % (host, path, encoded_params)\n",
      "  print 'URL: %s' % (url,)\n",
      "\n",
      "  # Sign the URL\n",
      "  consumer = oauth2.Consumer(consumer_key, consumer_secret)\n",
      "  oauth_request = oauth2.Request('GET', url, {})\n",
      "  oauth_request.update({'oauth_nonce': oauth2.generate_nonce(),\n",
      "                        'oauth_timestamp': oauth2.generate_timestamp(),\n",
      "                        'oauth_token': token,\n",
      "                        'oauth_consumer_key': consumer_key})\n",
      "\n",
      "  token = oauth2.Token(token, token_secret)\n",
      "  oauth_request.sign_request(oauth2.SignatureMethod_HMAC_SHA1(), consumer, token)\n",
      "  signed_url = oauth_request.to_url()\n",
      "  print 'Signed URL: %s\\n' % (signed_url,)\n",
      "\n",
      "  # Connect\n",
      "  try:\n",
      "    conn = urllib2.urlopen(signed_url, None)\n",
      "    try:\n",
      "      response = json.loads(conn.read())\n",
      "    finally:\n",
      "      conn.close()\n",
      "  except urllib2.HTTPError, error:\n",
      "    response = json.loads(error.read())\n",
      "\n",
      "  return response\n",
      "\n",
      "response = request(options.host, path, url_params, options.consumer_key, options.consumer_secret, options.token, options.token_secret)\n",
      "print json.dumps(response, sort_keys=True, indent=2)\n"
     ],
     "language": "python",
     "metadata": {},
     "outputs": []
    },
    {
     "cell_type": "code",
     "collapsed": false,
     "input": [],
     "language": "python",
     "metadata": {},
     "outputs": []
    }
   ],
   "metadata": {}
  }
 ]
}