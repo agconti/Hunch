{
 "metadata": {
  "name": ""
 },
 "nbformat": 3,
 "nbformat_minor": 0,
 "worksheets": [
  {
   "cells": [
    {
     "cell_type": "code",
     "collapsed": false,
     "input": [
      "import passwords\n",
      "import base64"
     ],
     "language": "python",
     "metadata": {},
     "outputs": [],
     "prompt_number": 1
    },
    {
     "cell_type": "code",
     "collapsed": false,
     "input": [
      "my_info = passwords.get_secure_info()"
     ],
     "language": "python",
     "metadata": {},
     "outputs": [],
     "prompt_number": 2
    },
    {
     "cell_type": "code",
     "collapsed": false,
     "input": [
      "weather_key = base64.b64decode(my_info['weather_key'])\n",
      "url = 'http://api.wunderground.com/api/%s/conditions/q/NY/New_York.json' % (weather_key)"
     ],
     "language": "python",
     "metadata": {},
     "outputs": [],
     "prompt_number": 5
    },
    {
     "cell_type": "code",
     "collapsed": false,
     "input": [
      "\n",
      "def connection(url):\n",
      "    '''\n",
      "    connects to yelp to extract data\n",
      "    '''\n",
      "    import urllib\n",
      "    import urllib2\n",
      "    import json\n",
      "    \n",
      "    try:\n",
      "        conn = urllib2.urlopen(url, None)\n",
      "        try:\n",
      "            data = json.loads(conn.read())\n",
      "        finally:\n",
      "            conn.close()\n",
      "    except urllib2.HTTPError, error:\n",
      "        data = json.loads(error.read())\n",
      "    \n",
      "    return data"
     ],
     "language": "python",
     "metadata": {},
     "outputs": [],
     "prompt_number": 6
    },
    {
     "cell_type": "code",
     "collapsed": false,
     "input": [
      "data = connection(url)['current_observation']\n",
      "data"
     ],
     "language": "python",
     "metadata": {},
     "outputs": [
      {
       "metadata": {},
       "output_type": "pyout",
       "prompt_number": 7,
       "text": [
        "{u'UV': u'7',\n",
        " u'dewpoint_c': 17,\n",
        " u'dewpoint_f': 62,\n",
        " u'dewpoint_string': u'62 F (17 C)',\n",
        " u'display_location': {u'city': u'New York',\n",
        "  u'country': u'US',\n",
        "  u'country_iso3166': u'US',\n",
        "  u'elevation': u'17.00000000',\n",
        "  u'full': u'New York, NY',\n",
        "  u'latitude': u'40.75013351',\n",
        "  u'longitude': u'-73.99700928',\n",
        "  u'magic': u'1',\n",
        "  u'state': u'NY',\n",
        "  u'state_name': u'New York',\n",
        "  u'wmo': u'99999',\n",
        "  u'zip': u'10001'},\n",
        " u'estimated': {},\n",
        " u'feelslike_c': u'28',\n",
        " u'feelslike_f': u'82',\n",
        " u'feelslike_string': u'82 F (28 C)',\n",
        " u'forecast_url': u'http://www.wunderground.com/US/NY/New_York.html',\n",
        " u'heat_index_c': 28,\n",
        " u'heat_index_f': 82,\n",
        " u'heat_index_string': u'82 F (28 C)',\n",
        " u'history_url': u'http://www.wunderground.com/weatherstation/WXDailyHistory.asp?ID=KNYNEWYO71',\n",
        " u'icon': u'partlycloudy',\n",
        " u'icon_url': u'http://icons-ak.wxug.com/i/c/k/partlycloudy.gif',\n",
        " u'image': {u'link': u'http://www.wunderground.com',\n",
        "  u'title': u'Weather Underground',\n",
        "  u'url': u'http://icons-ak.wxug.com/graphics/wu2/logo_130x80.png'},\n",
        " u'local_epoch': u'1374698008',\n",
        " u'local_time_rfc822': u'Wed, 24 Jul 2013 16:33:28 -0400',\n",
        " u'local_tz_long': u'America/New_York',\n",
        " u'local_tz_offset': u'-0400',\n",
        " u'local_tz_short': u'EDT',\n",
        " u'ob_url': u'http://www.wunderground.com/cgi-bin/findweather/getForecast?query=40.746399,-73.981598',\n",
        " u'observation_epoch': u'1374697986',\n",
        " u'observation_location': {u'city': u'Murray Hill, New York',\n",
        "  u'country': u'US',\n",
        "  u'country_iso3166': u'US',\n",
        "  u'elevation': u'325 ft',\n",
        "  u'full': u'Murray Hill, New York, New York',\n",
        "  u'latitude': u'40.746399',\n",
        "  u'longitude': u'-73.981598',\n",
        "  u'state': u'New York'},\n",
        " u'observation_time': u'Last Updated on July 24, 4:33 PM EDT',\n",
        " u'observation_time_rfc822': u'Wed, 24 Jul 2013 16:33:06 -0400',\n",
        " u'precip_1hr_in': u'0.00',\n",
        " u'precip_1hr_metric': u' 0',\n",
        " u'precip_1hr_string': u'0.00 in ( 0 mm)',\n",
        " u'precip_today_in': u'0.00',\n",
        " u'precip_today_metric': u'0',\n",
        " u'precip_today_string': u'0.00 in (0 mm)',\n",
        " u'pressure_in': u'29.78',\n",
        " u'pressure_mb': u'1008',\n",
        " u'pressure_trend': u'0',\n",
        " u'relative_humidity': u'53%',\n",
        " u'solarradiation': u'',\n",
        " u'station_id': u'KNYNEWYO71',\n",
        " u'temp_c': 27.1,\n",
        " u'temp_f': 80.8,\n",
        " u'temperature_string': u'80.8 F (27.1 C)',\n",
        " u'visibility_km': u'16.1',\n",
        " u'visibility_mi': u'10.0',\n",
        " u'weather': u'Partly Cloudy',\n",
        " u'wind_degrees': 284,\n",
        " u'wind_dir': u'WNW',\n",
        " u'wind_gust_kph': u'22.5',\n",
        " u'wind_gust_mph': u'14.0',\n",
        " u'wind_kph': 11.3,\n",
        " u'wind_mph': 7.0,\n",
        " u'wind_string': u'From the WNW at 7.0 MPH Gusting to 14.0 MPH',\n",
        " u'windchill_c': u'NA',\n",
        " u'windchill_f': u'NA',\n",
        " u'windchill_string': u'NA'}"
       ]
      }
     ],
     "prompt_number": 7
    },
    {
     "cell_type": "code",
     "collapsed": false,
     "input": [
      "print data['feelslike_f'], data['precip_1hr_in'], data['icon_url']"
     ],
     "language": "python",
     "metadata": {},
     "outputs": [
      {
       "output_type": "stream",
       "stream": "stdout",
       "text": [
        "82 0.00 http://icons-ak.wxug.com/i/c/k/partlycloudy.gif\n"
       ]
      }
     ],
     "prompt_number": 8
    },
    {
     "cell_type": "code",
     "collapsed": false,
     "input": [],
     "language": "python",
     "metadata": {},
     "outputs": []
    }
   ],
   "metadata": {}
  }
 ]
}